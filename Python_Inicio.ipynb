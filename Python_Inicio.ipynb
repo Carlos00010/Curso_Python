{
 "cells": [
  {
   "cell_type": "markdown",
   "id": "306bf38c",
   "metadata": {},
   "source": [
    "# Python Basico"
   ]
  },
  {
   "cell_type": "markdown",
   "id": "7a01475d",
   "metadata": {},
   "source": [
    "## Funciones de entrada y salida\n",
    "ver mas a detalle el funcionamiento de [**print**](https://www.w3schools.com/python/ref_func_print.asp) e [**input**](https://www.w3schools.com/python/ref_func_input.asp)."
   ]
  },
  {
   "cell_type": "code",
   "execution_count": 1,
   "id": "882fbcf5",
   "metadata": {},
   "outputs": [
    {
     "name": "stdout",
     "output_type": "stream",
     "text": [
      "hola mundo\n"
     ]
    }
   ],
   "source": [
    "print('hola mundo')"
   ]
  },
  {
   "cell_type": "code",
   "execution_count": 2,
   "id": "5aae5fd2",
   "metadata": {},
   "outputs": [
    {
     "name": "stdout",
     "output_type": "stream",
     "text": [
      "ingresa un caracter: A\n"
     ]
    },
    {
     "data": {
      "text/plain": [
       "'A'"
      ]
     },
     "execution_count": 2,
     "metadata": {},
     "output_type": "execute_result"
    }
   ],
   "source": [
    "input('ingresa un caracter: ')"
   ]
  },
  {
   "cell_type": "markdown",
   "id": "f49d65b7-d041-4044-a5b9-52f9f7364a6e",
   "metadata": {},
   "source": [
    "### Caractér de escape y Caracteres especiales\n",
    "#### Caractér de escape \\\n",
    "al imprimir en python se pasa un string (**cadena de texto**), las cadenas se declaran entre comillas dobles o simples **\"string1\"** o **'string2'** ambas son validas las comillas son caracteres especiales si queremos imprimir una cadena que contenga comillas hay que escaparlas para que se tomen como parte de la cadena y no como la apertura o cierre. para escapar un caracter especial hay que colocar un **backslash** ( \\\\ )antes del caracter a escapar.\n",
    "\n",
    "**nota**: otras forma de escapar las comilla es usando dentro de la cadena la que no se uso para abrir y cerrar, es decir, usar comillas simples (**'**) dentro de comillas dobles (**\"**) o viceversa. tambien se puede utilizar el formato multilinea (**abrir y cerrar la cadena con 3 comillas simple o dobles**)"
   ]
  },
  {
   "cell_type": "code",
   "execution_count": 12,
   "id": "b720221e-0f42-4376-90cb-e254946ec54b",
   "metadata": {},
   "outputs": [
    {
     "name": "stdout",
     "output_type": "stream",
     "text": [
      "caracter ' y \" escapados con \\ \n",
      "asi podemos usar c'o'm'i'll'a's \n",
      "y asi d\"o\"b\"l\"e\"s comillas \"\n",
      "aqui podemos \n",
      "escribir en varias lineas\n",
      "y podemos escribir comillas simples ' y dobles \"... \n",
      "funciona \"\n",
      "igual que el anterior ' \n"
     ]
    }
   ],
   "source": [
    "# ejemplo 1: con \\\n",
    "print('caracter \\' y \\\" escapados con \\ ')\n",
    "    \n",
    "# ejemplo 2: usando ' dentro de \"\n",
    "print(\"asi podemos usar c'o'm'i'll'a's \")\n",
    "    \n",
    "# ejemplo 3: usando \" dentro de '\n",
    "print('y asi d\"o\"b\"l\"e\"s comillas \"')\n",
    "\n",
    "# ejemplo 4: multilinea con comillas simples\n",
    "print('''aqui podemos \n",
    "escribir en varias lineas\n",
    "y podemos escribir comillas simples ' y dobles \"... ''')\n",
    "\n",
    "# ejemplo 5: multilinea con comillas dobles\n",
    "print(\"\"\"funciona \"\n",
    "igual que el anterior ' \"\"\")\n"
   ]
  },
  {
   "cell_type": "markdown",
   "id": "a45e237e-5be4-4aeb-bfc4-e29ae844a433",
   "metadata": {},
   "source": [
    "#### Caracteres especiales\n",
    "son representaciones de caracteres que no son alfanumericos como saltos de linea, tabulaciones, etc... como por ejemplo:\n",
    "- \\n = salto de linea \n",
    "- \\t = tabulacion \n",
    "- \\r = regresa el cursor al inicio de la linea\n",
    "\n",
    "ver mas [**aqui**](https://www.w3schools.com/python/python_strings_escape.asp)"
   ]
  },
  {
   "cell_type": "code",
   "execution_count": 1,
   "id": "18a80436-53f6-406e-a39e-89d5f2eda187",
   "metadata": {},
   "outputs": [
    {
     "name": "stdout",
     "output_type": "stream",
     "text": [
      "hola\n",
      "mundo\n"
     ]
    }
   ],
   "source": [
    "print('hola\\nmundo')"
   ]
  },
  {
   "cell_type": "markdown",
   "id": "2f78d04a",
   "metadata": {},
   "source": [
    "## Variables\n",
    "\n",
    "### tipos de variables\n",
    " - entero (**int**)\n",
    " - real, decimal, coma flotante (**float**)\n",
    " - caracter o cadena de caracters (**str**)\n",
    " - booleano, verdadero (**True** o **1**) o falso (**False** o **0**) ambos son (**bool**) \n",
    " - None (**NoneType**): es un tipo de variable que no tiene **ningun** valor asignado"
   ]
  },
  {
   "cell_type": "code",
   "execution_count": 5,
   "id": "48fd8bd5",
   "metadata": {},
   "outputs": [
    {
     "name": "stdout",
     "output_type": "stream",
     "text": [
      "<class 'int'>\n",
      "<class 'float'>\n",
      "<class 'str'>\n",
      "<class 'bool'>\n",
      "<class 'NoneType'>\n"
     ]
    }
   ],
   "source": [
    "entero = 1\n",
    "flotante = 1.53\n",
    "caracteres = \"caracter\"\n",
    "booleano = True\n",
    "none = None\n",
    "\n",
    "# type() retorna el tipo de la variable que se le indique\n",
    "\n",
    "print(type(entero))\n",
    "print(type(flotante))\n",
    "print(type(caracteres))\n",
    "print(type(booleano))\n",
    "print(type(none))"
   ]
  },
  {
   "cell_type": "code",
   "execution_count": 4,
   "id": "425393a2",
   "metadata": {},
   "outputs": [
    {
     "name": "stdout",
     "output_type": "stream",
     "text": [
      "ingresa un numero: 4\n",
      "el numero ingresado es: 4\n"
     ]
    }
   ],
   "source": [
    "# ejemplo\n",
    "numero = input('ingresa un numero: ')\n",
    "print('el numero ingresado es:',numero)"
   ]
  },
  {
   "cell_type": "markdown",
   "id": "cd4c799b",
   "metadata": {},
   "source": [
    "### Salida de la funcion input\n",
    "la funcion **input** recibe cualquier tipo de variables como entrada pero en la salida retorna una cadena (**str**) a menos que especifiquemos el tipo de dato\n",
    "- ```int(input(string))``` : acepta como entrada variables de tipo entero y retorna una variable de tipo entero\n",
    "- ```float(input(string))``` : acepta como entrada variables de tipo flotante y retorna una variable de tipo flotante\n",
    "- ```str(input(string))``` : acepta como entrada variables de tipo cadena y retorna una variable de tipo cadena (**asi se ejecuta por defecto**)"
   ]
  },
  {
   "cell_type": "code",
   "execution_count": 5,
   "id": "4c683b67",
   "metadata": {},
   "outputs": [
    {
     "name": "stdout",
     "output_type": "stream",
     "text": [
      "ingresar un texto o numero: 3\n",
      "<class 'str'>\n",
      "ingresar un numero: 33\n",
      "<class 'int'>\n",
      "ingresar un numero: 3\n",
      "<class 'float'>\n"
     ]
    }
   ],
   "source": [
    "var = input('ingresar un texto o numero: ')\n",
    "print(type(var))\n",
    "\n",
    " # al especificar que sera int la funcion input solo acepta valores numericos enteros de lo contrario dara un error\n",
    "var = int(input('ingresar un numero: '))\n",
    "print(type(var))\n",
    " \n",
    " # si se espacifica float, la funcion input acepta valores enteros y flotantes pero siempre retorna un float\n",
    "var = float(input('ingresar un numero: ')) \n",
    "print(type(var))"
   ]
  },
  {
   "cell_type": "markdown",
   "id": "e0fe1e37",
   "metadata": {},
   "source": [
    "## Operadores aritmeticos\n",
    " - suma: +\n",
    " - resta: -\n",
    " - multiplicacion: *\n",
    " - potencia: **\n",
    " - division: /\n",
    " - division entera: //\n",
    " - modulo (*resto*): %\n",
    " \n",
    " el operador division entera \"//\" retorna el **cociente** de la divison entera (sin decimales).\n",
    " \n",
    " el operador modulo \"%\" retorna el **resto** de la division\n",
    " \n",
    " ![Imagen](imagenes/divisiones.png)"
   ]
  },
  {
   "cell_type": "code",
   "execution_count": 6,
   "id": "f4b093aa",
   "metadata": {},
   "outputs": [
    {
     "name": "stdout",
     "output_type": "stream",
     "text": [
      "suma) 3 + 2 = 5\n",
      "resta) 3 - 2 = 1\n",
      "multiplicacion) 3 * 2 = 6\n",
      "potencia) 3 ** 2 = 9\n",
      "division) 3 / 2 = 1.5\n",
      "division entera) 3 // 2 = 1\n",
      "modulo) 3 % 2 = 1\n"
     ]
    }
   ],
   "source": [
    "# ejemplo\n",
    "a = 3\n",
    "b = 2\n",
    "\n",
    "print(f'suma) {a} + {b} = {a+b}')\n",
    "print(f'resta) {a} - {b} = {a-b}')\n",
    "print(f'multiplicacion) {a} * {b} = {a*b}')\n",
    "print(f'potencia) {a} ** {b} = {a**b}')\n",
    "print(f'division) {a} / {b} = {a/b}')\n",
    "print(f'division entera) {a} // {b} = {a//b}')\n",
    "print(f'modulo) {a} % {b} = {a%b}')\n",
    "\n",
    "#si la cadena comienza por f'' (format), permite introducir variables de todo tipo en la cadena dentro de llaves {}"
   ]
  },
  {
   "cell_type": "markdown",
   "id": "704d7718",
   "metadata": {},
   "source": [
    "## Operadores recursivos\n",
    "cambia el valor de una variable utilizando su valor anterior, es decir: x = x + 1.\n",
    "\n",
    "lo anterior se puede reducir y realizar todo tipo de **operaciones aritmeticas** de la sigiente manera:\n",
    "- suma: **x += valor**\n",
    "- resta: **y -= valor**\n",
    "- multiplicacion: **m \\*= valor** \n",
    "- division: **z /= valor**\n",
    "- modulo: **r %= valor** \n",
    "\n",
    "nota: tambien aplica para potencia (\\*\\*) y para division entera (//)"
   ]
  },
  {
   "cell_type": "code",
   "execution_count": 7,
   "id": "cc556242",
   "metadata": {},
   "outputs": [
    {
     "name": "stdout",
     "output_type": "stream",
     "text": [
      "el valor inicial de x es : 3\n",
      "el nuevo valor de x es: 5\n",
      "el nuevo valor de x es: 4\n",
      "el nuevo valor de x es: 8\n",
      "el nuevo valor de x es: 2\n",
      "el nuevo valor de x es: 0\n",
      "el nuevo valor de x es: 1\n",
      "el nuevo valor de x es: 0.3333333333333333\n"
     ]
    }
   ],
   "source": [
    "#ejemplo\n",
    "\n",
    "x = 3\n",
    "print(f'el valor inicial de x es : {x}')\n",
    "x += 2\n",
    "print(f'el nuevo valor de x es: {x}')\n",
    "x -= 1\n",
    "print(f'el nuevo valor de x es: {x}')\n",
    "x *= 2\n",
    "print(f'el nuevo valor de x es: {x}')\n",
    "x //= 4\n",
    "print(f'el nuevo valor de x es: {x}')\n",
    "x %= 2\n",
    "print(f'el nuevo valor de x es: {x}')\n",
    "x **= 0\n",
    "print(f'el nuevo valor de x es: {x}') # todo numero elevado a 0 es igual a 1\n",
    "x /= 3\n",
    "print(f'el nuevo valor de x es: {x}')"
   ]
  },
  {
   "cell_type": "markdown",
   "id": "316b0e8f",
   "metadata": {},
   "source": [
    "## Operadores Booleanos (*comparadores*)\n",
    " retornan un valor booleano:\n",
    "  - verdarero (True)\n",
    "  - falso (False)\n",
    "  \n",
    " estos operadores son:\n",
    "  * mayor que: >\n",
    "  * menor que: <\n",
    "  * mayor o igual que: >=\n",
    "  * menor o igual que: <=\n",
    "  * igual que: == \n",
    "  * distinto que: !=\n",
    "  * negado o inverso: not\n",
    " \n",
    " **nota: *el simbolo de igual (=) en python es asignacion, para comparar si un numero es igual a otro se utilizan dos (==)***"
   ]
  },
  {
   "cell_type": "code",
   "execution_count": 8,
   "id": "b60daf58",
   "metadata": {},
   "outputs": [
    {
     "name": "stdout",
     "output_type": "stream",
     "text": [
      "5 es mayor que 2? R: True\n",
      "5 es menor que 2? R: False\n",
      "5 es mayor o igual que 2? R: True\n",
      "5 es menor o igual que 2? R: False\n",
      "5 es igual que 2? R: False\n",
      "5 es distinto que 2? R: True\n",
      "False negado es: True\n"
     ]
    }
   ],
   "source": [
    "# ejemplo:\n",
    "a = 5\n",
    "b = 2\n",
    "\n",
    "# al declarar variables booleanas el valor debe ser True o False respetando la mayuscula.\n",
    "boolean = False\n",
    "\n",
    "print(f'{a} es mayor que {b}? R: {a>b}')\n",
    "print(f'{a} es menor que {b}? R: {a<b}')\n",
    "print(f'{a} es mayor o igual que {b}? R: {a>=b}')\n",
    "print(f'{a} es menor o igual que {b}? R: {a<=b}')\n",
    "print(f'{a} es igual que {b}? R: {a==b}')\n",
    "print(f'{a} es distinto que {b}? R: {a!=b}')\n",
    "print(f'{boolean} negado es: {not boolean}')"
   ]
  },
  {
   "cell_type": "markdown",
   "id": "d6d13082",
   "metadata": {},
   "source": [
    "## Estructura condicional : if, else, elif\n",
    "### condicional if\n",
    "Ejecuta un proceso (accion) si cumple con una condicion que retorne un valor booleano **True** de lo contrario se salta el proceso dentro del condicional.\n",
    "\n",
    "### condicional else\n",
    "Es un **proceso alterno opcional** que se ejecutara en caso de que no se cumpla la condicion impuesta en el condicional if.\n",
    "\n",
    "**nota: *else* no recibe ninguna condicion ya que este se ejecuta *automaticamente* solo si los condicionales *if* o *elif* no se cumplen** \n",
    "\n",
    "### condicional elif\n",
    "como el **condicional else** es un **proceso alterno opcional** que se ejecuta si la condicion del if no se cumple pero este recibe **otra condicion** que debe cumplirse (retornar **True**) para poder ejecutarse.\n",
    "\n",
    "**nota: pueden haber tantos condicionales *elif* como se necesiten** \n",
    "\n",
    "![Imagen](imagenes/estructura_condicional.jpg)"
   ]
  },
  {
   "cell_type": "code",
   "execution_count": 9,
   "id": "0e4a7d17",
   "metadata": {},
   "outputs": [
    {
     "name": "stdout",
     "output_type": "stream",
     "text": [
      "caso #1\n",
      "la condicion se cumple\n",
      "\n",
      "caso #2\n",
      "la condicion no se cumple\n"
     ]
    }
   ],
   "source": [
    "#ejemplo 1:\n",
    "print('caso #1')\n",
    "condicion = True\n",
    "\n",
    "if condicion:\n",
    "    print('la condicion se cumple')\n",
    "\n",
    "print('\\ncaso #2')\n",
    "condicion = False\n",
    "\n",
    "if condicion:\n",
    "    print('la condicion se cumple')\n",
    "else:\n",
    "    print('la condicion no se cumple')\n",
    "    \n",
    "# el \\n dentro de la cadena denota un salto de linea (Enter)"
   ]
  },
  {
   "cell_type": "code",
   "execution_count": 10,
   "id": "78302e1b",
   "metadata": {},
   "outputs": [
    {
     "name": "stdout",
     "output_type": "stream",
     "text": [
      "primer numero: 2\n",
      "segundo numero 7\n",
      "el numero mayor es: 7\n"
     ]
    }
   ],
   "source": [
    "#ejemplo 2: introducir 2 numeros y decir cual es mayor o si son iguales\n",
    "numero1 = input('primer numero: ')\n",
    "numero2 = input('segundo numero ')\n",
    "\n",
    "'''comparacion'''\n",
    "if numero1 > numero2:\n",
    "    print(f'el numero mayor es: {numero1}')\n",
    "elif numero1 == numero2:\n",
    "    print('los dos numeros ingresados son iguales')\n",
    "else:\n",
    "    print(f'el numero mayor es: {numero2}')"
   ]
  },
  {
   "cell_type": "markdown",
   "id": "dd1df9c7",
   "metadata": {},
   "source": [
    "## Logica booleana\n",
    "evalua dos o mas condiciones al mismo tiempo y retorna un unico valor booleano (***True o False***)\n",
    " - **and**: retorna **True** si y solo si todas las condiciones evaluadas son **True** en caso contrario retorna **False**\n",
    " - **or**: retorna **True** si una o mas de las condiciones evaluadas son **True**, retorna **False** si y solo si si todas las condiciones evaluadas son **False**"
   ]
  },
  {
   "cell_type": "code",
   "execution_count": 11,
   "id": "7a9ce315",
   "metadata": {},
   "outputs": [
    {
     "name": "stdout",
     "output_type": "stream",
     "text": [
      "True and False = False\n",
      "True and True = False\n",
      "True or False = True\n",
      "False or False = False\n",
      "True or False and True = True\n"
     ]
    }
   ],
   "source": [
    "#ejemplo\n",
    "\n",
    "condicion1 = True\n",
    "condicion2 = False\n",
    "\n",
    "print(f'{condicion1} and {condicion2} = {condicion1 and condicion2}')\n",
    "print(f'{condicion1} and {condicion1} = {condicion1 and condicion2}')\n",
    "print(f'{condicion1} or {condicion2} = {condicion1 or condicion2}')\n",
    "print(f'{condicion2} or {condicion2} = {condicion2 or condicion2}')\n",
    "\n",
    "# podemos combinar and y or para hacer evaluaciones mas complejas\n",
    "print(f'{condicion1} or {condicion2} and {condicion1} = {condicion1 or condicion2 and  condicion1}')\n",
    "\n",
    "#las condiciones se evaluan en pareja de izquierda a derecha "
   ]
  },
  {
   "cell_type": "code",
   "execution_count": 12,
   "id": "579ccac8",
   "metadata": {},
   "outputs": [
    {
     "name": "stdout",
     "output_type": "stream",
     "text": [
      "elige una opcion\n",
      "1) opcion 1\n",
      "2) opcion 2\n",
      "elige 1 o 2: 2\n",
      "elegiste la opcion: 2\n"
     ]
    }
   ],
   "source": [
    "#ejemplo 2\n",
    "\n",
    "print('elige una opcion')\n",
    "print('1) opcion 1')\n",
    "print('2) opcion 2')\n",
    "\n",
    "opcion = input('elige 1 o 2: ')\n",
    "\n",
    "if opcion == '1' or opcion == '2':\n",
    "    print(f'elegiste la opcion: {opcion}')\n",
    "else:\n",
    "    print(f'la opcion {opcion} no es valida')"
   ]
  },
  {
   "cell_type": "markdown",
   "id": "94ea7d90",
   "metadata": {},
   "source": [
    "## Bucles \n",
    "### Bucle condicional (while)\n",
    " este bucle se ejecuta cuando cumple con una condicion que retorne **True** y se repetira hasta que la condicion sea **False**.\n",
    " \n",
    " **nota: si la condicion es *False* desde el inicio el bucle no se ejecuta (*como el condicional if*) por otra parte si es *True* se puede ejecutar *infinitamente* hasta que el programa se detenga o la condicion cambie a *False***"
   ]
  },
  {
   "cell_type": "code",
   "execution_count": 13,
   "id": "7437ed7c",
   "metadata": {},
   "outputs": [
    {
     "name": "stdout",
     "output_type": "stream",
     "text": [
      "(x < 5) = True\n",
      "ejecucion #1 del bucle\n",
      "(x < 5) = True\n",
      "ejecucion #2 del bucle\n",
      "(x < 5) = True\n",
      "ejecucion #3 del bucle\n",
      "(x < 5) = True\n",
      "ejecucion #4 del bucle\n",
      "(x < 5) = True\n",
      "ejecucion #5 del bucle\n",
      "(x < 5) = False\n",
      "ya salimos del bucle\n"
     ]
    }
   ],
   "source": [
    "#ejemplo\n",
    "x = 0\n",
    "while x < 5 :\n",
    "    print(f'(x < 5) = {x<5}')\n",
    "    x+=1 #debemos aumentar x en cada iteracion del bucle de lo contrario se ejecutara infinitamente\n",
    "    print(f'ejecucion #{x} del bucle')\n",
    "print(f'(x < 5) = {x < 5}')\n",
    "print('ya salimos del bucle')"
   ]
  },
  {
   "cell_type": "markdown",
   "id": "fdf7cabb-4cc8-4872-816f-530b7e57dd6a",
   "metadata": {},
   "source": [
    "#### Break y Continue\n",
    "**break** detiene la ejecucion del bucle de forma abrupta, es decir, aunque la condicion sea **True** el bucle dejara de iterarse.\n",
    "\n",
    "**continue** sirve para saltarse una iteracion del bucle sin detener su ejecucion, es decir si el bucle ejecuta un proceso en cada iteracion **continue** se saltara ese proceso y volvera a ejecutarse el bucle. "
   ]
  },
  {
   "cell_type": "code",
   "execution_count": 6,
   "id": "5333ad27-ba62-4c46-92c7-0640f50f551e",
   "metadata": {},
   "outputs": [
    {
     "name": "stdout",
     "output_type": "stream",
     "text": [
      "2\n",
      "se salta el 4\n",
      "6\n",
      "fuera del bucle\n"
     ]
    }
   ],
   "source": [
    "# ejemplo\n",
    "\n",
    "x = 0\n",
    "\n",
    "# el bucle se ejecutara inifinitamente\n",
    "while True:\n",
    "    x += 1\n",
    "    \n",
    "    # si x es igual a 8 se sale del bucle\n",
    "    if x == 8:\n",
    "        break\n",
    "    \n",
    "    # se salta todas las operaciones de abajo si x es igual a 4 y vuelve a ejecutar el bucle\n",
    "    if x == 4:\n",
    "        print('se salta el 4')\n",
    "        continue\n",
    "        \n",
    "    # muestra en pantalla los numeros pares\n",
    "    if x % 2 == 0:\n",
    "        print(x)\n",
    "\n",
    "print('fuera del bucle')\n",
    "    \n",
    "# el aumento de la variable x debe hacerce antes del continue o el bucle seria infinito."
   ]
  },
  {
   "cell_type": "markdown",
   "id": "6500e024",
   "metadata": {},
   "source": [
    "### Bucle de rango limitado (for)\n",
    "este bucle se ejecuta en un **rango** determinado por lo que es dificil que se ejecute de manera infinita y no es necesaria una condicion especifica para que se ejecute\n",
    "\n",
    "**nota**: usaremos la funcion [**range**](https://www.w3schools.com/python/ref_func_range.asp) de python."
   ]
  },
  {
   "cell_type": "code",
   "execution_count": 15,
   "id": "5d23beec",
   "metadata": {},
   "outputs": [
    {
     "name": "stdout",
     "output_type": "stream",
     "text": [
      "iteracion #1\n",
      "iteracion #2\n",
      "iteracion #3\n",
      "iteracion #4\n",
      "fin del ciclo\n"
     ]
    }
   ],
   "source": [
    "#ejemplo\n",
    "for i in range(4):\n",
    "    #en este caso range empieza desde 0 y termina en 3, en total son 4 iteraciones \n",
    "    print(f'iteracion #{i+1}')\n",
    "print('fin del ciclo')"
   ]
  },
  {
   "cell_type": "markdown",
   "id": "a886b4bb",
   "metadata": {},
   "source": [
    "## Estructuras anidadas\n",
    "son combinaciones de estructuras una dentro de otra ya sean **condicionales o bucles**"
   ]
  },
  {
   "cell_type": "code",
   "execution_count": 17,
   "id": "cbddbdeb",
   "metadata": {},
   "outputs": [
    {
     "name": "stdout",
     "output_type": "stream",
     "text": [
      "mensaje 2 anidado\n"
     ]
    }
   ],
   "source": [
    "#ejemplo\n",
    "\n",
    "condicion = True\n",
    "condicion2 = False\n",
    "\n",
    "if condicion:\n",
    "    if condicion2:\n",
    "        print('mensaje 1 anidado')\n",
    "    else:\n",
    "        print('mensaje 2 anidado')"
   ]
  },
  {
   "cell_type": "code",
   "execution_count": 19,
   "id": "1b01100e",
   "metadata": {},
   "outputs": [
    {
     "name": "stdout",
     "output_type": "stream",
     "text": [
      "x no es igual a 2\n",
      "x no es igual a 2\n",
      "x es igual a: 2\n",
      "x no es igual a 2\n"
     ]
    }
   ],
   "source": [
    "#ejemplo 2\n",
    "\n",
    "x = 0\n",
    "while x < 4:\n",
    "    if x == 2:\n",
    "        print(f'x es igual a: {x}')\n",
    "    elif x != 2:\n",
    "        print(f'x no es igual a 2')\n",
    "    x += 1\n",
    "    "
   ]
  },
  {
   "cell_type": "code",
   "execution_count": 1,
   "id": "a200d788",
   "metadata": {},
   "outputs": [
    {
     "name": "stdout",
     "output_type": "stream",
     "text": [
      "fila = 0, columna = 2\n",
      "fila = 1, columna = 2\n",
      "fila = 2, columna = 2\n"
     ]
    }
   ],
   "source": [
    "#ejemplo 3\n",
    "\n",
    "for i in range(4):\n",
    "    for j in range(3):\n",
    "        if i == 2:\n",
    "            print(f'fila = {j}, columna = {i}')\n"
   ]
  }
 ],
 "metadata": {
  "kernelspec": {
   "display_name": "Python 3.9.2 64-bit",
   "language": "python",
   "name": "python3"
  },
  "language_info": {
   "codemirror_mode": {
    "name": "ipython",
    "version": 3
   },
   "file_extension": ".py",
   "mimetype": "text/x-python",
   "name": "python",
   "nbconvert_exporter": "python",
   "pygments_lexer": "ipython3",
   "version": "3.9.2"
  },
  "vscode": {
   "interpreter": {
    "hash": "916dbcbb3f70747c44a77c7bcd40155683ae19c65e1c03b4aa3499c5328201f1"
   }
  }
 },
 "nbformat": 4,
 "nbformat_minor": 5
}

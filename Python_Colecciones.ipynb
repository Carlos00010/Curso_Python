{
 "cells": [
  {
   "cell_type": "markdown",
   "id": "0417c936",
   "metadata": {},
   "source": [
    "# Colecciones\n",
    "son elementos que permiten almacenar multiples valores en una sola variable.\n",
    "\n",
    "**tipo de colecciones**\n",
    "- cadenas (string) --> [metodos](https://www.w3schools.com/python/python_strings_methods.asp)\n",
    "- listas\n",
    "- tuplas\n",
    "- dicccionarios\n",
    "- conjuntos\n",
    "\n",
    "\n",
    "**nota**: podemos saber el largo de una cadena o coleccion utilizando la funcion **len()**"
   ]
  },
  {
   "cell_type": "code",
   "execution_count": 1,
   "id": "a00edfb2",
   "metadata": {},
   "outputs": [
    {
     "name": "stdout",
     "output_type": "stream",
     "text": [
      "la cadena string tiene 28 caracteres\n"
     ]
    }
   ],
   "source": [
    "# ejemplo\n",
    "\n",
    "string = 'esto es una cadena de prueba'\n",
    "largo = len(string)\n",
    "print(f'la cadena string tiene {largo} caracteres')"
   ]
  },
  {
   "cell_type": "markdown",
   "id": "c4028972",
   "metadata": {},
   "source": [
    "## listas\n",
    "Una lista es un conjunto ordenado de objetos. Por objetos entendemos cualquiera de los tipos de dato ya mencionados, incluso otras listas.\n",
    "\n",
    "Para crear una lista, especificamos sus elementos entre corchetes y separados por comas. tambien podemos convertir strings o tuplas en listas con la funcion **list()**\n",
    "\n",
    "**nota**: podemos utilizar metodos para trabajar con listas mas informacion [**aqui**](https://docs.hektorprofe.net/python/metodos-de-las-colecciones/metodos-de-las-listas/) "
   ]
  },
  {
   "cell_type": "code",
   "execution_count": 11,
   "id": "cd60905f",
   "metadata": {},
   "outputs": [
    {
     "name": "stdout",
     "output_type": "stream",
     "text": [
      "['elemento0', 'elemento1', 'elemento2']\n",
      "la lista posee 3 elementos\n",
      "valor en el indice 1 de la lista: ['elemento1.1', 1.2]\n",
      "['elemento0', ['elemento1.1', 1.2], 'elemento2', 'elemento3']\n",
      "elementos de la lista 2 rango[2:4] ['elemento2', 'elemento3']\n"
     ]
    }
   ],
   "source": [
    "# ejemplo\n",
    "\n",
    "lista = ['elemento0', 'elemento1', 'elemento2']\n",
    "print(lista)\n",
    "\n",
    "#ver cuantos elementos posee una lista usando la funcion len()\n",
    "print(f'la lista posee {len(lista)} elementos')\n",
    "\n",
    "\n",
    "#podemos almacenar una lista dentro dentro de otra lista, usmos\n",
    "lista2 = list(('elemento0', ['elemento1.1', 1.2], 'elemento2'))\n",
    "print('valor en el indice 1 de la lista:',lista2[1])\n",
    "\n",
    "#agregamos un nuevo elemento a la lista 2\n",
    "lista2.append('elemento3')\n",
    "print(lista2)\n",
    "\n",
    "#mostrar valores en un rango\n",
    "print('elementos de la lista 2 rango[2:4]',lista2[2:4]) "
   ]
  },
  {
   "cell_type": "markdown",
   "id": "540b054b",
   "metadata": {},
   "source": [
    "## tuplas\n",
    "Las tuplas en Python son un tipo o estructura de datos que permite almacenar datos de una manera muy parecida a las listas, con la salvedad de que son inmutables (no se pueden alterar sus valores).\n",
    "\n",
    "Las tuplas en Python o tuples son muy similares a las listas, pero con dos diferencias. Son inmutables, lo que significa que no pueden ser modificadas una vez declaradas, y en vez de inicializarse con corchetes se hace con parentesis.\n",
    "\n",
    "**nota**: una vez declarada la tupla ya no podra alterarse al igual que las listas, es decir, **no podran agregarse, quitarse o cambiarse ningun valor dentro de ella**."
   ]
  },
  {
   "cell_type": "code",
   "execution_count": 5,
   "id": "e61b4558",
   "metadata": {},
   "outputs": [
    {
     "name": "stdout",
     "output_type": "stream",
     "text": [
      "(0, (1, 2), 'elemento3', ['4.1', 4.2])\n",
      "valor en el indice 3 de la tupla: ['4.1', 4.2]\n"
     ]
    }
   ],
   "source": [
    "# ejemplo\n",
    "\n",
    "tupla = (0, (1, 2), 'elemento3', ['4.1', 4.2])\n",
    "print(tupla)\n",
    "\n",
    "#mostrar un elemento de la tupla\n",
    "print('valor en el indice 3 de la tupla:',tupla[3])"
   ]
  },
  {
   "cell_type": "markdown",
   "id": "c322a771",
   "metadata": {},
   "source": [
    "## diccionarios\n",
    "Un diccionario en Python es una colección de elementos, donde cada uno tiene una llave (**key**) y un valor (**value**). Los diccionarios se pueden crear con llaves **{}** separando con una coma cada par key: value o con la funcion **dict()**.\n",
    "\n",
    "**nota**: los metodos de los diccionarios se puede ver a mas detalle [**aqui**](https://devcode.la/tutoriales/diccionarios-en-python/)"
   ]
  },
  {
   "cell_type": "code",
   "execution_count": 4,
   "id": "527b68cb",
   "metadata": {},
   "outputs": [
    {
     "name": "stdout",
     "output_type": "stream",
     "text": [
      "{'llave1': 'valor1', 'llave2': 2, 'key3': [1, 2, 3], 4: ('A', 'B')}\n",
      "[1, 2, 3]\n",
      "{'llave1': 'valor1', 'llave2': 2, 'key3': [1, 2, 3], 4: ('A', 'B'), 'nuevo': 'nuevo valor'}\n",
      "{'valor1': 1, 'valor2': 'hola', 'valor3': True}\n"
     ]
    }
   ],
   "source": [
    "# ejemplo\n",
    "\n",
    "diccionario = {'llave1': 'valor1', 'llave2': 2, 'key3': [1, 2, 3], 4: ('A', 'B')}\n",
    "print(diccionario)\n",
    "\n",
    "#mostrar un valor especifico del diccionario\n",
    "print(diccionario['key3'])\n",
    "\n",
    "#agregar o actualizar una clave\n",
    "diccionario['nuevo'] = 'nuevo valor'\n",
    "print(diccionario)\n",
    "\n",
    "# otra forma de crear un diccionario es pasandole una lista o tupla con listas o tuplas agrupadas en parejas\n",
    "diccionario2 = dict([('valor1', 1), ['valor2', 'hola'], ('valor3', True)])\n",
    "print(diccionario2)"
   ]
  },
  {
   "cell_type": "markdown",
   "id": "4c4907b0",
   "metadata": {},
   "source": [
    "## conjuntos\n",
    "Un conjunto es una colección no ordenada de objetos únicos. Sin embargo al contrario que las **listas, tuplas o diccionarios**, un conjunto no puede incluir objetos mutables como listas, diccionarios, e incluso otros conjuntos. Ademas los conjuntos no muestran los elementos duplicados.\n",
    "\n",
    "ya que los conjuntos son una coleccion compleja se puede obtener mas informacion [**aqui**](https://recursospython.com/guias-y-manuales/conjuntos-sets/)\n",
    "\n",
    "Para crear un conjunto especificamos sus elementos entre llaves. o con la funcion **set()**\n",
    "\n",
    "**nota**: podemos ver los metodos de los conjuntos [**aqui**](https://docs.hektorprofe.net/python/metodos-de-las-colecciones/metodos-de-los-conjuntos/)\n",
    "\n",
    "los conjuntos pueden ser combinados con otros conjuntos utilizando operaciones matematicas:\n",
    "- union **|**: combina dos conjuntos para formar uno nuevo que contiene los elementos de ambos conjuntos\n",
    "- interseccion **&**: obtiene solo los elementos que son iguales en ambos conjuntos.\n",
    "- diferencia **-**: obtiene elementos en el primer conjunto que no estan en el segundo.\n",
    "- diferencia simetrica **^**: obtiene solo los elementos que no son iguales en ambos conjuntos"
   ]
  },
  {
   "cell_type": "code",
   "execution_count": 25,
   "id": "461d430c",
   "metadata": {},
   "outputs": [
    {
     "name": "stdout",
     "output_type": "stream",
     "text": [
      "{1, 2, 2.2, 'elemento3'}\n",
      "{True, 2, 3, 5.5, 'elemento3'}\n",
      "la union de los conjuntos da = {1, 2, 2.2, 3, 5.5, 'elemento3'}\n",
      "la interseccion de los conjuntos da = {1, 2, 'elemento3'}\n",
      "la diferencia de conjunto1 con conjunto2 es = {2.2}\n",
      "la diferencia de conjunto2 con conjunto1 es = {3, 5.5}\n",
      "la diferencia simetrica de los conjuntos da = {3, 2.2, 5.5}\n",
      "{False, True}\n"
     ]
    }
   ],
   "source": [
    "# ejemplo\n",
    "\n",
    "conjunto1 = {1, 2, 'elemento3', 2.2, 'elemento3'}\n",
    "\n",
    "#otra forma de crear conjuntos\n",
    "conjunto2 = set([2, 'elemento3', 3, 5.5, True])\n",
    "print(conjunto1)\n",
    "print(conjunto2)\n",
    "\n",
    "# operaciones entre conjuntos\n",
    "print(f'la union de los conjuntos da = {conjunto1 | conjunto2}')\n",
    "print(f'la interseccion de los conjuntos da = {conjunto1 & conjunto2}')\n",
    "print(f'la diferencia de conjunto1 con conjunto2 es = {conjunto1 - conjunto2}')\n",
    "print(f'la diferencia de conjunto2 con conjunto1 es = {conjunto2 - conjunto1}')\n",
    "print(f'la diferencia simetrica de los conjuntos da = {conjunto1 ^ conjunto2}')\n",
    "\n",
    "# recordatorio : True tambien es igual a 1 y False tambien es igual 0\n",
    "conjunto_bool = {True, False, 1, 0}\n",
    "print(conjunto_bool)"
   ]
  },
  {
   "cell_type": "markdown",
   "id": "4fc67e88",
   "metadata": {},
   "source": [
    "# Colecciones y bucles\n",
    "podemos recorrer y llenar listas u otras colecciones utilizando bucles (normalmente **for**)"
   ]
  },
  {
   "cell_type": "code",
   "execution_count": 17,
   "id": "52e0125c",
   "metadata": {},
   "outputs": [
    {
     "name": "stdout",
     "output_type": "stream",
     "text": [
      "agregar elementos a una lista:\n",
      "[0, 1, 2, 3]\n",
      "\n",
      "recorrer los elementos de una coleccion:\n",
      "angel\n",
      "carlos\n",
      "juan\n"
     ]
    }
   ],
   "source": [
    "#ejemplo\n",
    "print('agregar elementos a una lista:')\n",
    "lista = []\n",
    "for i in range(4):\n",
    "    lista.append(i)\n",
    "print(lista)\n",
    "\n",
    "print('\\nrecorrer los elementos de una coleccion:')\n",
    "nombres = ('angel', 'carlos', 'juan')\n",
    "for nombre in nombres:\n",
    "    print(nombre)"
   ]
  },
  {
   "cell_type": "markdown",
   "id": "aa802923",
   "metadata": {},
   "source": [
    "## Comprension de listas\n",
    "es una sintaxis practica para crear listas "
   ]
  },
  {
   "cell_type": "code",
   "execution_count": 4,
   "id": "1421c126",
   "metadata": {},
   "outputs": [
    {
     "name": "stdout",
     "output_type": "stream",
     "text": [
      "[0, 1, 2, 3, 4]\n",
      "[0, 1, 4, 9, 16]\n"
     ]
    }
   ],
   "source": [
    "# ejemplo: llenar una lista con numeros elevados al cuadrado\n",
    "\n",
    "print(list(range(5)))\n",
    "cuadrados = [i**2 for i in range(5)]\n",
    "print(cuadrados)"
   ]
  },
  {
   "cell_type": "code",
   "execution_count": 1,
   "id": "c1b5a257",
   "metadata": {},
   "outputs": [
    {
     "name": "stdout",
     "output_type": "stream",
     "text": [
      "[2, 4, 6, 8, 10, 12, 14]\n"
     ]
    }
   ],
   "source": [
    "# ejemplo 2: llenar una lista solo con numeros pares\n",
    "\n",
    "pares = [par for par in range(1,16) if par % 2 == 0]\n",
    "print(pares)"
   ]
  }
 ],
 "metadata": {
  "kernelspec": {
   "display_name": "Python 3.9.2 64-bit",
   "language": "python",
   "name": "python3"
  },
  "language_info": {
   "codemirror_mode": {
    "name": "ipython",
    "version": 3
   },
   "file_extension": ".py",
   "mimetype": "text/x-python",
   "name": "python",
   "nbconvert_exporter": "python",
   "pygments_lexer": "ipython3",
   "version": "3.9.2"
  },
  "vscode": {
   "interpreter": {
    "hash": "916dbcbb3f70747c44a77c7bcd40155683ae19c65e1c03b4aa3499c5328201f1"
   }
  }
 },
 "nbformat": 4,
 "nbformat_minor": 5
}

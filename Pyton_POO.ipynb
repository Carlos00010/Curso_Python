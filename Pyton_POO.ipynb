{
 "cells": [
  {
   "cell_type": "markdown",
   "id": "f36047b8-836b-4451-90cc-a9910450509d",
   "metadata": {},
   "source": [
    "# Clases y Objetos\n",
    "Las **clases** son **plantillas o descripciones** de un objeto el cual posee n cantidad de **atributos** y **metodos** que lo describen. \n",
    "\n",
    "ver definiciones mas detalladas [**aqui**](https://www.pythontutorial.net/python-oop/python-object-oriented-programming/)"
   ]
  },
  {
   "cell_type": "code",
   "execution_count": 11,
   "id": "e71717e4-8316-4929-ab98-4172c29b94a5",
   "metadata": {},
   "outputs": [
    {
     "name": "stdout",
     "output_type": "stream",
     "text": [
      "<__main__.Persona object at 0x7fcf2a7501c0>\n"
     ]
    }
   ],
   "source": [
    "# ejemplo\n",
    "\n",
    "class Persona:\n",
    "    #atributos\n",
    "    nombre = None\n",
    "    apellido = None\n",
    "    edad = None\n",
    "    sexo = None\n",
    "\n",
    "# creando un objeto o instacia de la clase persona\n",
    "persona1 = Persona()\n",
    "\n",
    "print(persona1)"
   ]
  },
  {
   "cell_type": "markdown",
   "id": "ff1475d1-0d15-42a0-a910-0c0a8ca63506",
   "metadata": {},
   "source": [
    "**Persona1** es una instancia (**objeto**) de la clase **Persona** y posee los atributos: \n",
    "- nombre\n",
    "- apellido\n",
    "- edad\n",
    "- sexo\n",
    "\n",
    "**nota**: los atributos se crearon vacios anteriormente cuando definimos la clase"
   ]
  },
  {
   "cell_type": "code",
   "execution_count": 12,
   "id": "ca7c3aad-32cf-462d-816f-ed2fedcd1faf",
   "metadata": {},
   "outputs": [
    {
     "name": "stdout",
     "output_type": "stream",
     "text": [
      "nombre persona1 : None\n",
      "datos de persona1: nombre=carlos mendoza, edad=23, sexo=Masculino\n"
     ]
    }
   ],
   "source": [
    "# los atributos no tienen ningun valor asignado por ahora ya que asi se definieron\n",
    "print(f'nombre persona1 : {persona1.nombre}')\n",
    "\n",
    "# asignando valores a los atributos para persona1 \n",
    "persona1.nombre = 'carlos'\n",
    "persona1.apellido = 'mendoza'\n",
    "persona1.edad = 23\n",
    "persona1.sexo = 'Masculino'\n",
    "\n",
    "print(f'datos de persona1: nombre={persona1.nombre} {persona1.apellido}, edad={persona1.edad}, sexo={persona1.sexo}')"
   ]
  },
  {
   "cell_type": "markdown",
   "id": "6225ffd6-dd73-4a4c-804b-50afbc9efff9",
   "metadata": {},
   "source": [
    "## Atributos y Metodos\n",
    "### Atributos\n",
    "Los **atributos** o propiedades de los objetos son las características que puede tener un objeto, como el color. Si el objeto es Persona, los atributos podrían ser: cedula, nombre, apellido, sexo, etc…\n",
    "\n",
    "Los atributos **describen el estado** de un objeto. Pueden ser de **cualquier tipo de dato**. y se pueden dividir en:\n",
    "- atributos de clase: son atributos que se crean **dentro de la clase** y no dentro del constructor u **otros metodos**  y pueden ser accedidos o llamados sin necesidad de crear una nueva instancia u objeto, ademas **su valor sera el mismo para todos los objetos de esa clase**.\n",
    "\n",
    "- atributos de instancia: estos atributos **tienen un valor unico para cada objeto** ya que se les da al momento de instanciar o crear el objeto."
   ]
  },
  {
   "cell_type": "markdown",
   "id": "4a47d998",
   "metadata": {},
   "source": [
    "### Metodos\n",
    "Los **métodos** describen el comportamiento de los objetos de una clase. Estos representan las operaciones que se pueden realizar con los objetos de la clase,\n",
    "\n",
    "La ejecución de un método puede conducir a cambiar el estado del objeto.\n",
    "\n",
    "Se definen de la misma forma que las funciones normales pero deben declararse dentro de la clase y su primer argumento siempre referencia a la instancia que la llama, de esta forma se afirma que los métodos son funciones adjuntadas a objetos. pueden ser:\n",
    "\n",
    "- metodos de instancia\n",
    "- metodos de clase (**@classmethod**)\n",
    "- metodos estaticos (**@staticmethod**)"
   ]
  },
  {
   "cell_type": "code",
   "execution_count": 4,
   "id": "d8b20438-e852-448a-a5e9-f8bfc770729f",
   "metadata": {},
   "outputs": [
    {
     "name": "stdout",
     "output_type": "stream",
     "text": [
      "Carlos es mayor de de edad\n",
      "Juana aun no es mayor de edad\n"
     ]
    }
   ],
   "source": [
    "# ejemplo\n",
    "\n",
    "class Persona:\n",
    "    # Atributos de clase\n",
    "    nombre = None\n",
    "    edad = None\n",
    "    \n",
    "    # metodo de instancia\n",
    "    def es_adulto(self):\n",
    "        if self.edad >= 18:\n",
    "            print(f'{self.nombre} es mayor de de edad')\n",
    "        else:\n",
    "            print(f'{self.nombre} aun no es mayor de edad')\n",
    "\n",
    "# instanciando objeto 1 de la clase Persona\n",
    "persona1 = Persona()\n",
    "persona1.nombre = 'Carlos'\n",
    "persona1.edad = 23\n",
    "\n",
    "# instanciando objeto 2 de la clase Persona\n",
    "persona2 = Persona()\n",
    "persona2.nombre = 'Juana'\n",
    "persona2.edad = 17\n",
    "            \n",
    "# llamando el metodo para ambos objetos\n",
    "persona1.es_adulto()\n",
    "persona2.es_adulto()"
   ]
  },
  {
   "cell_type": "markdown",
   "id": "098a175f-6260-41f6-a942-02ae0e8b4680",
   "metadata": {},
   "source": [
    "#### self\n",
    "hace referencia al objeto en si el cual llama o ejecuta un metodo dentro de la clase, es decir:\n",
    "\n",
    "*si tenemos una instacia llamada **persona1** podemos llamar a un metodo de la forma **persona1.metodo()** por lo que self hara referencia a **persona1**, si se llama desde otra instancia llamada **persona2** self hara referencia a **persona2***\n",
    "\n",
    "cuando declaramos un **metodo** si no pasamos el argumento **self** al atributo deseado no hacemos referencia al **objeto**, sino a una variable comun dentro del metodo.\n",
    "\n",
    "**nota**: por convencion se usa la palabra **self** pero puede ser reemplazada por cualquier otra, en Js se usa **this**\n",
    "\n",
    "#### Constructor\n",
    "```def __init__(self)``` : es un **Dunder (*Double under*) o metodo magico** que sirve para **inicializar** los atributos de una clase y **se llama automaticamente al instanciar un nuevo objeto**. ***siempre*** recibe como parametro el argumento **self** y tambien puede recibir como argumentos los atributos de la clase.\n",
    "\n",
    "**nota**: los argumentos que se le pasen los metodos o Dunders de una clase se rigen por las mismas normas que los parametros y argumentos de una [funcion](Python_Funciones.ipynb) normal."
   ]
  },
  {
   "cell_type": "code",
   "execution_count": 5,
   "id": "eef9cc69-89cb-455a-88fc-b3ec8bf7e484",
   "metadata": {},
   "outputs": [
    {
     "name": "stdout",
     "output_type": "stream",
     "text": [
      "datos circulo1: radio = 4, color = verde\n",
      "datos circulo2: radio = 7, color = azul\n",
      "el nuevo radio de circulo1 es = 8\n",
      "el nuevo radio de circulo2 es = 14\n"
     ]
    }
   ],
   "source": [
    "# ejemplo\n",
    "\n",
    "class Circulo:\n",
    "    \n",
    "    # constructor. atributos de instancia\n",
    "    def __init__(objeto, radio, color):\n",
    "        # inicializamos los atributos de la clase Cirulo, en lugar de self utilizaremos objeto\n",
    "        objeto.radio = radio\n",
    "        objeto.color = color\n",
    "    \n",
    "    def duplicar_radio(self):\n",
    "        self.radio = self.radio * 2\n",
    "        return self.radio\n",
    "    \n",
    " # pasando el valor de los atributos como parametros\n",
    "circulo1 = Circulo(4, 'verde')\n",
    "circulo2 = Circulo(7, 'azul')\n",
    "print(f'datos circulo1: radio = {circulo1.radio}, color = {circulo1.color}')\n",
    "print(f'datos circulo2: radio = {circulo2.radio}, color = {circulo2.color}')\n",
    "\n",
    " # llamando al metodo duplicar_radio desde la instancia circulo1\n",
    "circulo1.duplicar_radio()\n",
    "\n",
    " # llamando al metodo duplicar_radio desde la clase\n",
    "Circulo.duplicar_radio(circulo2)\n",
    "\n",
    "print(f'el nuevo radio de circulo1 es = {circulo1.radio}')\n",
    "print(f'el nuevo radio de circulo2 es = {circulo2.radio}')"
   ]
  },
  {
   "cell_type": "code",
   "execution_count": 2,
   "id": "e08af44a-c743-459d-bc96-ef57dd620c97",
   "metadata": {},
   "outputs": [
    {
     "name": "stdout",
     "output_type": "stream",
     "text": [
      "nuevo atributo color = negro\n"
     ]
    }
   ],
   "source": [
    "# ejemplo 2 añadir atributos nuevos a un objeto especifico\n",
    "\n",
    "class Cuadrado:\n",
    "    def __init__(self, base, altura):\n",
    "        self.base = base\n",
    "        self.altura = altura\n",
    "        \n",
    "cuadrado1 = Cuadrado(2, 4)\n",
    "# añadiendo un nuevo atributo a la instancia cuadrado1\n",
    "cuadrado1.color = 'negro'\n",
    "print(f'nuevo atributo color = {cuadrado1.color}')\n",
    "\n",
    "# la instacia cuadrado2 no posee el atributo color ya que se creo desde otra intancia y no dentro de la clase\n",
    "cuadrado2 = Cuadrado(3, 3)"
   ]
  },
  {
   "cell_type": "markdown",
   "id": "23a3b9fb-33b1-457a-bff1-5d5e21b7054e",
   "metadata": {},
   "source": [
    "*los argumentos **objeto** y **self** se declararon con nombres diferentes pero tenian la misma funcion*\n",
    "\n",
    "si se llama a un metodo desde una instancia no es necesario pasar como parametro el nombre de la instancia (**objeto**), ya esta implicito. por el contrario si se llama desde la clase si hay que definir a que instacia se hara referencia.\n",
    "\n",
    "#### Dunders o Metodos Magicos (Sobreescribir)\n",
    "ademas del Dunder `__init__` hay muchos otros como:\n",
    "- `def __str__(self)`\n",
    "- `def __add__(self, otro)`\n",
    "- `def __repr__(self)`\n",
    "\n",
    "cada Dunder tiene una funcion especifica que altera el comportamiento del objeto y se ejecuta de forma automatica dependiendo de la funcion del Dunder\n",
    "\n",
    "\n",
    "[**aqui**](https://www.tutorialsteacher.com/python/magic-methods-in-python) se muestran todos los **Dunders** de python extraidos de la clase **int** y aqui [**algunos ejemplos**](https://www.section.io/engineering-education/dunder-methods-python/)"
   ]
  },
  {
   "cell_type": "code",
   "execution_count": 5,
   "id": "993cd3ec-17bf-4a43-b0ff-b5314375e7c6",
   "metadata": {},
   "outputs": [
    {
     "name": "stdout",
     "output_type": "stream",
     "text": [
      "la suma de los parametros x = hola mundo\n",
      "la suma de los parametros y = 10\n"
     ]
    }
   ],
   "source": [
    "# ejemplo\n",
    "\n",
    "class Tupla:\n",
    "    # constrctor recibe dos parametros\n",
    "    def __init__(self, x, y):\n",
    "        self.x = x\n",
    "        self.y = y\n",
    "    \n",
    "    # sumamos los parametros x e y de un objeto self con un objeto distinto otro\n",
    "    def __add__(self, otro):\n",
    "        return Tupla(self.x + otro.x, self.y + otro.y)\n",
    "    \n",
    "tupla1 = Tupla('hola', 7)\n",
    "tupla2 = Tupla(' mundo', 3)\n",
    "\n",
    "tupla3 = tupla1 + tupla2\n",
    "print(f'la suma de los parametros x = {tupla3.x}')\n",
    "print(f'la suma de los parametros y = {tupla3.y}')"
   ]
  },
  {
   "cell_type": "markdown",
   "id": "6aa7eed6-a923-468b-9c66-82d5dd872918",
   "metadata": {},
   "source": [
    "el **Dunder** `__add__` es un **Dunder aritmetico** que se invoca al utilizar el operador aritmetico de suma (**+**) y ejecuta el metodo entre los objetos existentes de la clase con los que se llamo.\n",
    "\n",
    "recibe como parametros al menos 2 objetos distintos en este caso se declararon como **self** haciendo referencia a un objeto y **otro** que hace referencia a un objeto distinto.\n",
    "\n",
    "*en este caso **self** hace referencia a la instacia **tupla1**, **otro** hace referencia a la instacia **tupla2** y creamos una nueva instancia (**objeto**) llamado **tupla3** cuyos atributos (**x, y**) tedran el valor resultante de **tupla1 + tupla2*** respectivamente.\n",
    "\n",
    "**nota**: El uso de los **Dunders aritmeticos o de comparacion** establece un **comportamiento personalizado** para el simbolo que representa, es decir, el Dunder `__add__` representa el uso del signo **+** pero su comportamiento se define en el metodo, y no tiene necesariamente que ser una suma.\n",
    "\n",
    "#### Dunders aritmeticos\n",
    "- `__sub__` para -\n",
    "- `__mul__` para \\*\n",
    "- `__truediv__` para /\n",
    "- `__floordiv__` para //\n",
    "- `__mod__` para %\n",
    "- `__pow__` para **\n",
    "- `__and__` para &\n",
    "- `__xor__` para ^\n",
    "- `__or__` para | \n",
    "\n",
    "#### Dunders de Comparacion\n",
    "- `__lt__` para <\n",
    "- `__le__` para <=\n",
    "- `__eq__` para ==\n",
    "- `__ne__` para !=\n",
    "- `__gt__` para >\n",
    "- `__ge__` para >= "
   ]
  },
  {
   "cell_type": "code",
   "execution_count": 18,
   "id": "3d41a577-6d5e-40d8-af15-3d52161597a8",
   "metadata": {},
   "outputs": [
    {
     "name": "stdout",
     "output_type": "stream",
     "text": [
      ">spam>\n",
      "e>spam>e\n",
      "eg>spam>eg\n",
      "egg>spam>egg\n",
      "eggs>spam>eggs\n"
     ]
    }
   ],
   "source": [
    "# ejemplo \n",
    "\n",
    "class SpecialString():\n",
    "    def __init__(self, cont):\n",
    "        self.cont = cont\n",
    "    \n",
    "    # comportamiento personalizado cuando se utiliza el simbolo de comparacion >\n",
    "    def __gt__(self, other):\n",
    "        for index in range(len(other.cont)+1):\n",
    "            result = other.cont[:index]+ '>' + self.cont\n",
    "            result += '>' + other.cont[:index]\n",
    "            print(result)\n",
    "\n",
    "spam = SpecialString('spam')\n",
    "eggs = SpecialString('eggs')\n",
    "\n",
    "# se llama al metodo usando > entre los objetos\n",
    "spam > eggs"
   ]
  },
  {
   "cell_type": "markdown",
   "id": "f45f1493-0d0c-4a99-8fd5-b07a747883a6",
   "metadata": {},
   "source": [
    "anteriormente al intentar mostrar en pantalla una instancia de una clase con la funcion `print()` se mostraba la direccion de memoria del objeto y no sus atributos.\n",
    "\n",
    "![Imagen](imagenes/ejemplo1.png)\n",
    "\n",
    "con el Dunder `__str__` podemos definir que se mostrara en pantalla al invocar la funcion `print()` o el formato de una cadena con `str()` "
   ]
  },
  {
   "cell_type": "code",
   "execution_count": 57,
   "id": "9c3e10e1-b30e-4b60-896f-59c477618974",
   "metadata": {},
   "outputs": [
    {
     "name": "stdout",
     "output_type": "stream",
     "text": [
      "has escrito = Hola mundo\n"
     ]
    },
    {
     "data": {
      "text/plain": [
       "'has escrito = Hola mundo'"
      ]
     },
     "execution_count": 57,
     "metadata": {},
     "output_type": "execute_result"
    }
   ],
   "source": [
    "# ejemplo\n",
    "\n",
    "class Texto:\n",
    "    #constructor\n",
    "    def __init__(self, string):\n",
    "        self.string = string\n",
    "    \n",
    "    def __str__(self):\n",
    "        texto = f'has escrito = {self.string}'\n",
    "        return texto\n",
    "\n",
    "texto1 = Texto('Hola mundo')\n",
    "\n",
    "# mostrando en pantalla\n",
    "print(texto1)\n",
    "\n",
    "# haciendo una cadena de texto\n",
    "str(texto1)"
   ]
  },
  {
   "cell_type": "markdown",
   "id": "8cc4412e-0b5c-425e-90c2-c7621424ef62",
   "metadata": {},
   "source": [
    "#### Otros Dunders\n",
    "- `__str__` cuando se llama a la funcion print() o str()\n",
    "- `__int__`\n",
    "- `__float__`\n",
    "- `__call__` el objeto (**instancia**) puede ser usado como funcion\n",
    "- `__del__` destructor se llama con la funcion del() para eliminar objetos\n",
    "\n",
    "**contenedores**\n",
    "- `__len__` para len()\n",
    "- `__getitem__` para obtener valores por indexacion\n",
    "- `__setitem__` para asignar valores indexados\n",
    "- `__delitem__` para eliminar valores indexados\n",
    "- `__iter__` for iteration over objects (e.g., in for loops)\n",
    "- `__contains__` for in "
   ]
  },
  {
   "cell_type": "code",
   "execution_count": 50,
   "id": "2d6b2c9f-4c23-4cb6-a2a8-0a0716264a6c",
   "metadata": {
    "tags": []
   },
   "outputs": [
    {
     "name": "stdout",
     "output_type": "stream",
     "text": [
      "el valor en la posicion 2 de la lista es = B\n",
      "el valor en la posicion 2 de la lista es = D\n",
      "\n",
      "\n",
      "el largo de la lista es = 4\n",
      "el largo de la lista es = 1\n",
      "\n",
      "\n",
      "el valor en la posicion 2 de la lista es = dos\n",
      "el valor en la posicion 2 de la lista es = tres\n"
     ]
    }
   ],
   "source": [
    "import random\n",
    "class RandList:\n",
    "    def __init__(self, cont):\n",
    "        self.cont = cont\n",
    "    \n",
    "    # definiendo la instancia como una funcion --> self()\n",
    "    def __call__(self, nuevo_cont):\n",
    "        self.cont = nuevo_cont\n",
    "    \n",
    "    # retorna un elemento indexado al azar del parametro cont\n",
    "    def __getitem__(self, index):\n",
    "        return self.cont[index + random.randint(-1,1)]\n",
    "    \n",
    "    # retorna un numero al azar cuando se llama a la funcion len()\n",
    "    def __len__(self):\n",
    "        return random.randint(0, len(self.cont)*2)\n",
    "    \n",
    "#creando la instancia de la clase RandList\n",
    "lista = RandList(['A', 'B', 'C', 'D', 'E'])\n",
    "\n",
    "# imprimimos un valor indexado en lista\n",
    "print(f'el valor en la posicion 2 de la lista es = {lista[2]}')\n",
    "print(f'el valor en la posicion 2 de la lista es = {lista[2]}')\n",
    "\n",
    "print(\"\\n\")\n",
    "#imprimimos el largo de la lista\n",
    "print(f'el largo de la lista es = {len(lista)}')\n",
    "print(f'el largo de la lista es = {len(lista)}')\n",
    "\n",
    "# usando la instancia como funcion y asignando nuevos valores\n",
    "lista(['uno', 'dos', 'tres', 'cuatro', 'cinco'])\n",
    "\n",
    "print('\\n')\n",
    "# imprimiendo nuevos valores\n",
    "print(f'el valor en la posicion 2 de la lista es = {lista[2]}')\n",
    "print(f'el valor en la posicion 2 de la lista es = {lista[2]}')"
   ]
  },
  {
   "cell_type": "markdown",
   "id": "3488a313",
   "metadata": {},
   "source": [
    "#### Metodos estaticos y de clase\n",
    "los **metodos estaticos** se definen con el decorador `@staticmethod` y no pueden acceder a los atributos o variables de instancia ni reciben como parametro el argumento **self** por lo que solo pueden acceder a variables de clase --> `Clase.Variable_de_Clase`\n",
    "\n",
    "los **metodos de clase** se definen con el decorador `@classmethod` reciben como parametro el argumento **cls** que hace referencia a la clase (*puede tener otro nombre al igual que **self***)"
   ]
  },
  {
   "cell_type": "code",
   "execution_count": 39,
   "id": "b3fac632",
   "metadata": {},
   "outputs": [
    {
     "name": "stdout",
     "output_type": "stream",
     "text": [
      "variable de clase\n",
      "variable de clase\n",
      "variable de clase\n"
     ]
    }
   ],
   "source": [
    "# ejemplo\n",
    "\n",
    "class Clase:\n",
    "    \n",
    "    atributo_de_clase = 'variable de clase'\n",
    "    \n",
    "    def __init__(self, atributo_de_instancia):\n",
    "        variable_de_instancia = atributo_de_instancia\n",
    "        \n",
    "    # metodo estatico\n",
    "    @staticmethod\n",
    "    def metodo_estatico():\n",
    "        print(Clase.atributo_de_clase)\n",
    "    \n",
    "    # metodo de clase\n",
    "    @classmethod\n",
    "    def metodo_de_clase(cls):\n",
    "        print(cls.atributo_de_clase)\n",
    "    \n",
    "\n",
    "# instancia de la clase \n",
    "objeto = Clase('atributo')\n",
    "# llamada al metodo estatico desde la instancia\n",
    "objeto.metodo_estatico()\n",
    "# llamada al metodo estatico desde la clase\n",
    "Clase.metodo_estatico()\n",
    "# llamada al metodo de clase desde la instancia\n",
    "objeto.metodo_de_clase()"
   ]
  },
  {
   "cell_type": "code",
   "execution_count": 5,
   "id": "fcaad912",
   "metadata": {},
   "outputs": [
    {
     "name": "stdout",
     "output_type": "stream",
     "text": [
      "25\n"
     ]
    }
   ],
   "source": [
    "# ejemplo 2\n",
    "\n",
    "class Rectagunlo:\n",
    "    def __init__(self, ancho, alto):\n",
    "        self.ancho = ancho\n",
    "        self.alto = alto\n",
    "        \n",
    "    def calcular_area(self):\n",
    "        return self.ancho * self.alto\n",
    "    \n",
    "    @classmethod\n",
    "    def nuevo_cuadrado(cls, lado):\n",
    "        return cls(lado, lado)\n",
    "    \n",
    "cuadrado = Rectagunlo.nuevo_cuadrado(5)\n",
    "print(cuadrado.calcular_area())"
   ]
  },
  {
   "cell_type": "code",
   "execution_count": 8,
   "id": "6dff9968",
   "metadata": {},
   "outputs": [
    {
     "name": "stdout",
     "output_type": "stream",
     "text": [
      "ingredintes de la pizza: ['salsa', 'queso', 'aceitunas']\n",
      "La pizza no lleva piña\n"
     ]
    }
   ],
   "source": [
    "# ejemplo 3\n",
    "\n",
    "class Pizza:\n",
    "    def __init__(self, ingredientes):\n",
    "        self.ingredientes = ingredientes\n",
    "        \n",
    "    @staticmethod\n",
    "    def validar_ingrediente(ingrediente):\n",
    "        if ingrediente == 'piña':\n",
    "            print('La pizza no lleva piña')\n",
    "        else:\n",
    "            return True\n",
    "    # el argumento ingrediente de la funcion estatica validar_ingrediente NO es un atributo de la clase Pizza\n",
    "    \n",
    "    def __str__(self):\n",
    "        return f'ingredintes de la pizza: {self.ingredientes}'\n",
    "    \n",
    "ingredientes = ['salsa', 'queso', 'aceitunas']\n",
    "ingredientes2 = ['salsa', 'piña']\n",
    "\n",
    "if all(Pizza.validar_ingrediente(ingrediente) for ingrediente in ingredientes):\n",
    "    pizza1 = Pizza(ingredientes)\n",
    "print(pizza1)\n",
    "\n",
    "if all(Pizza.validar_ingrediente(ingrediente) for ingrediente in ingredientes2):\n",
    "    pizza2 = Pizza(ingredientes2)  \n",
    "        "
   ]
  },
  {
   "cell_type": "markdown",
   "id": "f82966a5-752d-4fad-b4c2-0e55d83999da",
   "metadata": {},
   "source": [
    "## Encapsulacion\n",
    "La encapsulación consiste en **denegar el acceso a los atributos y métodos internos de una clase desde el exterior y que puedan ser manipulados o modificados**. En Python no existe, pero se puede simular precediendo atributos y métodos con dos barras bajas (**__**) como indicando que son \"especiales\".\n",
    "\n",
    "### Debilmente privada\n",
    "se indica que un **atributo o metodo** es debilmente privado anteponiendo solo **una barra baja** antes de la declaración del atributo o metodo: `_atributo`, con esta notacion el **atributo o metodo** aún sera accesible desde afuera de la clase, solo es para indicar que **no deberia hacerce**. \n",
    "\n",
    "**nota**: para llamar al atributo o metodo encapsulado se debe colocar la barra baja ya que esta altera su nombre.\n",
    "\n",
    "### Fuertemente Privada\n",
    "se indica que indica anteponiendo **dos barras bajas** antes de la declaracion de atributo o metodo: `__atributo` de esta manera aun se puede acceder al atributo o metodo desde afuera de la clase pero con otra notacion: `_nombreClase__atributo`"
   ]
  },
  {
   "cell_type": "code",
   "execution_count": 17,
   "id": "6b03c6fc-ba0f-4dc8-932e-a268ef37efd2",
   "metadata": {},
   "outputs": [
    {
     "name": "stdout",
     "output_type": "stream",
     "text": [
      "atributo privado\n",
      "aun puedo ser llamado desde afuera\n",
      "agente secreto\n",
      "soy mas dificil de acceder\n"
     ]
    }
   ],
   "source": [
    "# ejemplo\n",
    "class Ejemplo:\n",
    "    _AtributoPrivado = 'atributo privado'\n",
    "    \n",
    "    def _MetodoPrivado(self):\n",
    "        print('aun puedo ser llamado desde afuera')\n",
    "        \n",
    "    __AtributoMuyPrivado = 'agente secreto'\n",
    "    \n",
    "    def __MetodoMuyPrivado(self):\n",
    "        print('soy mas dificil de acceder')\n",
    "\n",
    "objeto = Ejemplo()\n",
    "\n",
    "# esto no deberia hacerce\n",
    "print(objeto._AtributoPrivado)\n",
    "objeto._MetodoPrivado()\n",
    "\n",
    "# esto mucho menos\n",
    "print(objeto._Ejemplo__AtributoMuyPrivado)\n",
    "objeto._Ejemplo__MetodoMuyPrivado()"
   ]
  },
  {
   "cell_type": "markdown",
   "id": "437e62e3",
   "metadata": {},
   "source": [
    "### Getter y Setter\n",
    "#### Propiedades\n",
    "las propiedades son un decorador `@property` que convierte a un metodo en un atributo, es decir, `metodo() --> metodo` ademas de que este atributo sera de **solo-lectura** y una vez declarado su valor ya no podra ser modificado de manera convencional. a este decorador tambien se le conoce como **metodo get o getter**\n",
    "\n",
    "#### Setter\n",
    "La función **setter** establece el valor de la propiedad correspondiente.\n",
    "Para definir un setter, debe usar un **decorador** con el mismo nombre que la **propiedad**, seguido de un punto y la palabra clave setter. `@propiedad.setter`"
   ]
  },
  {
   "cell_type": "code",
   "execution_count": 2,
   "id": "70315b48",
   "metadata": {},
   "outputs": [
    {
     "name": "stdout",
     "output_type": "stream",
     "text": [
      "el nombre de la persona es: carlos\n",
      "el nombre de la persona es: juan\n"
     ]
    }
   ],
   "source": [
    "# ejemplo\n",
    "\n",
    "class Persona:\n",
    "    # constructor \n",
    "    def __init__(self, nombre):\n",
    "        # atributo privado \n",
    "        self._nombre = nombre\n",
    "        \n",
    "    # Propiedad o getter\n",
    "    @property\n",
    "    def nombre(self):\n",
    "        return self._nombre\n",
    "    \n",
    "    # metodo setter\n",
    "    @nombre.setter\n",
    "    def nombre(self, nombre):\n",
    "        self._nombre = nombre\n",
    "        \n",
    "    def __str__(self):\n",
    "        return f'el nombre de la persona es: {self.nombre}'\n",
    "\n",
    "persona1 = Persona('carlos')\n",
    "print(persona1)\n",
    "\n",
    "# cambiando el atributo nombre de la instancia persona 1\n",
    "persona1.nombre = 'juan'\n",
    "print(persona1)\n"
   ]
  },
  {
   "cell_type": "code",
   "execution_count": 10,
   "id": "130ac493",
   "metadata": {},
   "outputs": [
    {
     "name": "stdout",
     "output_type": "stream",
     "text": [
      "su clave actual es: contrasena\n",
      "Error, no se cambio la clave!\n",
      "su clave actual es: contrasena\n"
     ]
    }
   ],
   "source": [
    "# ejemplo 2\n",
    "class Archivo:\n",
    "    def __init__(self, clave):\n",
    "        self._clave = clave\n",
    "    \n",
    "    # recibe el valor de clave al crear una instancia o al modificarlo con el metodo setter \n",
    "    @property\n",
    "    def clave(self):\n",
    "        return self._clave\n",
    "\n",
    "    # se llama al intentar modificar el valor de clave y se modifica solo si se ingresa el codigo correcto\n",
    "    @clave.setter\n",
    "    def clave(self, nueva_clave):\n",
    "        if nueva_clave:\n",
    "            codigo_secreto = input('ingresar codigo secreto: ')\n",
    "            if codigo_secreto == '123456':\n",
    "                print('la clave ha sido actualizada')\n",
    "                self._clave = nueva_clave\n",
    "            else:\n",
    "                print('Error, no se cambio la clave!')\n",
    "    \n",
    "    def __str__(self):\n",
    "        return f'su clave actual es: {self.clave}'\n",
    "\n",
    "# nueva instancia \n",
    "nuevo_archivo = Archivo('contrasena')\n",
    "print(nuevo_archivo)\n",
    "\n",
    "# intentando cambiar el valor del atributo clave\n",
    "nuevo_archivo.clave = '23@nuevo'\n",
    "print(nuevo_archivo)\n",
    "\n"
   ]
  },
  {
   "cell_type": "markdown",
   "id": "82f77d8e",
   "metadata": {},
   "source": [
    "el metodo **nombre()** al ser llamado fuera de la clase se llamara como un atributo si se quiere modificar, es decir, `objeto.nombre = 'otro nombre'` pero al ser un atributo de solo lectura esto dara un error, para ello esta el **setter**\n",
    "\n",
    "**nota**: el valor tambien podria ser modificado accediendo directamente a la variable privada `objeto._nombre = 'otro nombre'` pero eso **no se debe hacer**.\n",
    "\n",
    "## Herencia\n",
    "Las clases puede **compartir sus atributos y metodos con otras clases**, es decir una **clase 'padre'** o **superclase** hereda sus atributos y metodos a una **clase 'hija'** o **subclase**, la clase 'hija' **tendra sus propios atributos y metodos** pero tambien tendra los atributos y metodos de la clase 'padre'.\n",
    "\n",
    "se declara una **subclase** de la siguiente manera:  `class nombre_clase(clase_padre):`\n",
    "\n",
    "**nota**: todas las clases creadas en python heredan de la clase **objects** directa o indirectamente"
   ]
  },
  {
   "cell_type": "code",
   "execution_count": 5,
   "id": "09b49c05-8af6-453b-8bbf-eb6208eab822",
   "metadata": {},
   "outputs": [
    {
     "name": "stdout",
     "output_type": "stream",
     "text": [
      "Oscar esta trabajando\n"
     ]
    }
   ],
   "source": [
    "# ejemplo\n",
    "\n",
    "# clase padre\n",
    "class Persona:\n",
    "    # constructor\n",
    "    def __init__(self, nombre, edad):\n",
    "        self.nombre = nombre\n",
    "        self.edad = edad\n",
    "\n",
    "# clase hija\n",
    "class Empleado(Persona):\n",
    "    # metodo de la clase hija \n",
    "    def trabajando(self):\n",
    "        print(f'{self.nombre} esta trabajando')\n",
    "\n",
    "# creando una instancia de la clase hija\n",
    "empleado1 = Empleado('Oscar', 37)\n",
    "# llamando el metodo de la clase hija\n",
    "empleado1.trabajando()\n",
    "\n",
    "# el metodo de la clase hija no puede ser llamado desde la clase padre"
   ]
  },
  {
   "cell_type": "code",
   "execution_count": 19,
   "id": "54c79ca9-c24f-47be-a6fe-3fa86e5934ce",
   "metadata": {},
   "outputs": [
    {
     "name": "stdout",
     "output_type": "stream",
     "text": [
      "mi apellido es Perez\n",
      "soy Juan, tengo 12 años\n",
      "soy Lucas, tengo 7 años\n",
      "soy el hijo menor\n",
      "mi apellido es Perez\n"
     ]
    }
   ],
   "source": [
    "# ejemplo 2\n",
    "\n",
    "# superclase\n",
    "class Padre:\n",
    "    def __init__(self, nombre, apellido, edad):\n",
    "        self.nombre = nombre\n",
    "        self.apellido = apellido\n",
    "        self.edad = edad\n",
    "    def presentarse(self):\n",
    "        print(f'mi apellido es {self.apellido}')\n",
    "\n",
    "# subclase\n",
    "class Hijo(Padre):\n",
    "    def mayor(self):\n",
    "        print(f'soy {self.nombre}, tengo {self.edad} años')\n",
    "\n",
    "# sub subclase\n",
    "class Hermano(Hijo):\n",
    "    def menor(self):\n",
    "        print('soy el hijo menor')\n",
    "\n",
    "# instancia de la subclase Hijo\n",
    "hijo = Hijo('Juan', 'Perez', 12)\n",
    "\n",
    "# instacia de la subclase Hermano\n",
    "hermano = Hermano('Lucas', 'Perez', 7)\n",
    "\n",
    "# llamando las funciones heredadas por la clase Hijo\n",
    "hijo.presentarse()\n",
    "hijo.mayor()\n",
    "\n",
    "# Hermano hereda todos los metodos y atributos de las clases Padre e Hijo\n",
    "hermano.mayor()\n",
    "hermano.menor()\n",
    "hermano.presentarse()"
   ]
  },
  {
   "cell_type": "markdown",
   "id": "1dc1003f-1b4d-4790-a572-a088425f52ab",
   "metadata": {},
   "source": [
    "### Inicializar una subclase\n",
    "a pesar de que se pueden agregar metodos y atributos uno por uno cuando las clases son extensas es mas conveniente **inicializarlas** como se vio anteriormente con el **Constructor**. al inicializar una **subclase** debemos inicializar en ella tambien la **clase 'padre' o superclase**"
   ]
  },
  {
   "cell_type": "code",
   "execution_count": 43,
   "id": "8637fb21-51ca-4c12-aa4f-215be2e656b9",
   "metadata": {},
   "outputs": [
    {
     "name": "stdout",
     "output_type": "stream",
     "text": [
      "carlos esta manejando\n",
      "Andres tiene un nivel educativo de Secundaria\n"
     ]
    }
   ],
   "source": [
    "# ejemplo\n",
    "\n",
    "# superclase\n",
    "class Persona:\n",
    "    # constructor clase padre\n",
    "    def __init__(self, nombre, edad):\n",
    "        self.nombre = nombre\n",
    "        self.edad = edad\n",
    "    \n",
    "    def manejar(self):\n",
    "        print(f'{self.nombre} esta manejando')\n",
    "\n",
    "# subclase 1\n",
    "class Empleado(Persona):\n",
    "    # constructor de la subclase\n",
    "    def __init__(self, nombre, edad, empleo):\n",
    "        # inicializando los parametros de la superclase con los parametros de la subclase: nombre, edad\n",
    "        super().__init__(nombre, edad)\n",
    "        self.empleo = empleo\n",
    "\n",
    "# subclase 2\n",
    "class Estudiante(Persona):\n",
    "    def __init__(self, nombre, edad, nivel):\n",
    "        Persona.__init__(self, nombre, edad)\n",
    "        self.nivel = nivel\n",
    "            \n",
    "\n",
    "#creando instancia de la subclase 1\n",
    "empleado1 = Empleado('carlos', 23, 'desarrollador')\n",
    "empleado1.manejar()\n",
    "\n",
    "# creando instancia de la subclase 2\n",
    "estudiante1 = Estudiante('Andres', 14, 'Secundaria')\n",
    "print(f'{estudiante1.nombre} tiene un nivel educativo de {estudiante1.nivel}')"
   ]
  },
  {
   "cell_type": "markdown",
   "id": "69da531e-11af-45c9-b1de-42ff9702952b",
   "metadata": {},
   "source": [
    "`super().__init__(parametros)` y `Persona.__init__(self, parametros)` son dos maneras distintas de hacer lo mismo, llamar a un metodo de otra clase para ser **sobreescrito** en la **subclase**\n",
    "\n",
    "**recordatorio**: `__init__` es un metodo, **super()** o **Clase.metodo()** pueden llamar a otros metodos. \n",
    "\n",
    "### super()\n",
    "**al utilizar super() no es necesario pasar el argumento *self* a al metodo llamado** "
   ]
  },
  {
   "cell_type": "code",
   "execution_count": 61,
   "id": "c44cb016-cdb0-44e3-b95e-4dcbe3725975",
   "metadata": {},
   "outputs": [
    {
     "name": "stdout",
     "output_type": "stream",
     "text": [
      "daniel llamada desde la subclase\n",
      "llamada desde subclase\n",
      "daniel Super-Salto\n"
     ]
    }
   ],
   "source": [
    "# ejemplo\n",
    "\n",
    "class Super:\n",
    "    def __init__(self, nombre):\n",
    "        self.nombre = nombre\n",
    "        \n",
    "    def saltar(self):\n",
    "        print(f'{self.nombre} Super-Salto')\n",
    "        \n",
    "    def __str__(self):\n",
    "        return (f'llamada desde la superclase : {self.nombre}')\n",
    "        \n",
    "class Sub(Super):\n",
    "    def __init(self, nombre):\n",
    "        super().__init__(nombre)\n",
    "        \n",
    "    # sobreescribiendo el metodo __str__\n",
    "    def __str__(self):\n",
    "        return f'{self.nombre} llamada desde la subclase'\n",
    "    \n",
    "    def saltar(self):\n",
    "        print('llamada desde subclase')\n",
    "        super().saltar()\n",
    "    \n",
    "hijo = Sub('daniel')\n",
    "print(hijo)\n",
    "hijo.saltar()"
   ]
  },
  {
   "cell_type": "markdown",
   "id": "f3ac96af-6f82-4859-b4c3-edaae735cdcf",
   "metadata": {},
   "source": [
    "las clases pueden tener metodos con nombres iguales cuyos comportamientos sean distintos. en este caso el metodo `__str__` tiene un comportamiento en la clase **Super** y uno distinto en la subclase **Sub** y con **super()** llamamos al metodo de la clase **Super** dentro de un metodo con el mismo nombre en la subclase **Sub**\n",
    "\n",
    "ver mas [**aqui**](https://www.linuxteaching.com/article/python_super_function)\n",
    "\n",
    "### Herencia Multiple\n",
    "una subclase puede heredar de mas de una superclase"
   ]
  },
  {
   "cell_type": "code",
   "execution_count": 2,
   "id": "7ad76be8-15db-4d1b-89b4-4ece0527c7e0",
   "metadata": {},
   "outputs": [
    {
     "name": "stdout",
     "output_type": "stream",
     "text": [
      "me llamo Luis Perez Garcia y soy Venezolano por mi mama\n"
     ]
    }
   ],
   "source": [
    "# ejemplo\n",
    "\n",
    "# superclase 1\n",
    "class Padre:\n",
    "    def __init__(self, apellido_p):\n",
    "        self.apellido_p = apellido_p\n",
    "\n",
    "# superclase 2\n",
    "class Madre:\n",
    "    def __init__(self, apellido_m, nacionalidad):\n",
    "        self.apellido_m = apellido_m\n",
    "        self.nacionalidad = nacionalidad\n",
    "        \n",
    "class Hijo(Padre, Madre):\n",
    "    #constructor de la subclase\n",
    "    def __init__(self, nombre, apellido_paterno, apellido_materno, nacionalidad):\n",
    "        # enviado datos a la superclase Padre\n",
    "        Padre.__init__(self, apellido_paterno)\n",
    "        # enviando datos a la superclase Madre\n",
    "        Madre.__init__(self, apellido_materno, nacionalidad)\n",
    "        self.nombre = nombre\n",
    "    \n",
    "    def __str__(self):\n",
    "        return f'me llamo {self.nombre} {self.apellido_p} {self.apellido_m} y soy {self.nacionalidad} por mi mama'\n",
    "\n",
    "hijo1 = Hijo('Luis', 'Perez', 'Garcia', 'Venezolano')\n",
    "print(hijo1)"
   ]
  },
  {
   "cell_type": "markdown",
   "id": "55df25ec-df00-4360-93b2-73ac131f473a",
   "metadata": {},
   "source": [
    "al heredar de varias clases padre a la vez **no es recomendable usar super()**, *de esta manera se hara referencia solo a la primera clase que fue declarada como padre*. es preferible llamar a la superclase directamente junto con el metodo (`Padre.__init__(self,...)`), de este modo hacemos referencia directa a la clase padre, con la diferencia de que se debe pasar como parametro **self**.\n",
    "\n",
    "### MRO - Method Resolution Order\n",
    "indica el orden en que se resolveran las llamadas a las clases o metodos segun como lo hayamos defininido, es decir, si por ejemplo declaramos un subclase que hereda de dos o mas superclases, el MRO dicta el orden en que se llamaran los metodos"
   ]
  },
  {
   "cell_type": "code",
   "execution_count": 3,
   "id": "632c0444-cb6c-4ee3-95e4-952bd66be208",
   "metadata": {},
   "outputs": [
    {
     "name": "stdout",
     "output_type": "stream",
     "text": [
      "[<class '__main__.Hijo'>, <class '__main__.Padre'>, <class '__main__.Madre'>, <class 'object'>]\n"
     ]
    }
   ],
   "source": [
    "# ejemplo: utilizando las clases Padre, Madre e Hijo\n",
    "print(Hijo.mro())"
   ]
  },
  {
   "cell_type": "markdown",
   "id": "a31be88f",
   "metadata": {},
   "source": [
    "### Metodo isinstance()\n",
    "verifica si un **objeto o instancia** pertenece a una clase o hereda de ella y retorna **True o False**"
   ]
  },
  {
   "cell_type": "code",
   "execution_count": null,
   "id": "63a95e27",
   "metadata": {},
   "outputs": [
    {
     "name": "stdout",
     "output_type": "stream",
     "text": [
      "el objeto carro1 pertenece a la clase vehiculo?: True\n",
      "el objeto avion1 pertenece a la clase vehiculo?: False\n"
     ]
    }
   ],
   "source": [
    "# ejemplo \n",
    "\n",
    "class Vehiculo:\n",
    "    def __init__(self, ruedas):\n",
    "        self.ruedas = ruedas\n",
    "\n",
    "class Carro(Vehiculo):\n",
    "    def __init__(self, ruedas):\n",
    "        super().__init__(ruedas)\n",
    "\n",
    "class Avion():\n",
    "    def __init__(self, turbinas):\n",
    "        self.turbinas = turbinas\n",
    "# instancia u objeto de la clase Carro que hereda de Vehiculo\n",
    "carro1 = Carro(4)\n",
    "# instacia de la clase Avion \n",
    "avion1 = Avion(2)\n",
    "\n",
    "print('el objeto carro1 pertenece a la clase vehiculo?: ', end=\"\") \n",
    "print(isinstance(carro1, Vehiculo))\n",
    "\n",
    "print('el objeto avion1 pertenece a la clase vehiculo?: ', end=\"\")  \n",
    "print(isinstance(avion1, Vehiculo))"
   ]
  },
  {
   "cell_type": "markdown",
   "id": "7de57b23-f362-478f-851b-92db952211a0",
   "metadata": {},
   "source": [
    "al declarar la clase **Hijo** definimos que hereda de **Padre, Madre** en ese orden `class Hijo(Padre, Madre)` por lo tanto al llamar a un metodo desde la clase hijo, primero lo buscara en la clase **Hijo**, luego en la clase **Padre** y por ultimo en la clase **madre**, **donde lo encuentre primero lo ejecutara**.\n",
    "\n",
    "## Polimorfismo\n",
    "El concepto de **polimorfismo** implica que si en una porción de código se invoca un determinado método de un objeto, podrán obtenerse distintos resultados según la clase del objeto. Esto se debe a que **distintos objetos pueden tener un método con un mismo nombre, pero que realice distintas operaciones**."
   ]
  },
  {
   "cell_type": "code",
   "execution_count": 1,
   "id": "0a74bc9f",
   "metadata": {},
   "outputs": [
    {
     "name": "stdout",
     "output_type": "stream",
     "text": [
      "se desplaza en cuatro ruedas\n",
      "se desplaza en dos ruedas\n"
     ]
    }
   ],
   "source": [
    "# ejemplo\n",
    "\n",
    "class Carro():\n",
    "    # metodo 1    \n",
    "    def desplazamiento(self):\n",
    "        print('se desplaza en cuatro ruedas')\n",
    "\n",
    "class Moto():\n",
    "    # metodo 2\n",
    "    def desplazamiento(self):\n",
    "        print('se desplaza en dos ruedas')\n",
    "     \n",
    "# aqui ocurre el polimorfismo, el metodo desplazamiento es llamado de la misma forma\n",
    "# pero el comportamiento es distinto y depende de la instancia que se pase como parametro en la funcion\n",
    "def metodo_desplazamiento(vehiculo):\n",
    "    vehiculo.desplazamiento()\n",
    "\n",
    "carro1 = Carro()\n",
    "moto1 = Moto()\n",
    "\n",
    "# las dos instancias llaman a un metodo con el mismo nombre pero diferente comportamiento\n",
    "metodo_desplazamiento(carro1)\n",
    "metodo_desplazamiento(moto1)\n",
    "\n"
   ]
  }
 ],
 "metadata": {
  "kernelspec": {
   "display_name": "Python 3.9.2 64-bit",
   "language": "python",
   "name": "python3"
  },
  "language_info": {
   "codemirror_mode": {
    "name": "ipython",
    "version": 3
   },
   "file_extension": ".py",
   "mimetype": "text/x-python",
   "name": "python",
   "nbconvert_exporter": "python",
   "pygments_lexer": "ipython3",
   "version": "3.9.2"
  },
  "vscode": {
   "interpreter": {
    "hash": "916dbcbb3f70747c44a77c7bcd40155683ae19c65e1c03b4aa3499c5328201f1"
   }
  }
 },
 "nbformat": 4,
 "nbformat_minor": 5
}

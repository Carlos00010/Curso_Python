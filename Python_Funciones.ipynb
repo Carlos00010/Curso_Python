{
 "cells": [
  {
   "cell_type": "markdown",
   "id": "080c95ba-d527-4144-aa36-b69caa5e0cd5",
   "metadata": {},
   "source": [
    "# Funciones\n",
    "Las funciones en Python, y en cualquier lenguaje de programación, son estructuras esenciales de código. Una función es un grupo de instrucciones que constituyen una unidad lógica del programa y **resuelven un problema** muy concreto.\n",
    "\n",
    "python trae definidas muchas funciones por defecto como:\n",
    "- print()\n",
    "- input()\n",
    "- range()\n",
    "- len()\n",
    "\n",
    "\n",
    "y muchas mas (ver [**aqui**](https://www.w3schools.com/python/python_ref_functions.asp)), pero tambien podemos crear nuestras propias funciones."
   ]
  },
  {
   "cell_type": "code",
   "execution_count": 1,
   "id": "c6d9de3f-5e94-4481-afec-cc72e427482d",
   "metadata": {},
   "outputs": [
    {
     "name": "stdout",
     "output_type": "stream",
     "text": [
      "7\n"
     ]
    }
   ],
   "source": [
    "# ejemplo: funcion que retorna la suma de dos numeros\n",
    "\n",
    "def suma(a, b):\n",
    "    return (a+b)\n",
    "\n",
    "print(suma(3,4))"
   ]
  },
  {
   "cell_type": "markdown",
   "id": "76e6d527-0807-418d-8072-ef08398a828e",
   "metadata": {},
   "source": [
    "*la funcion suma recibio 2 paramentros (**a, b**) y retorna la suma entre ambos parametros*\n",
    "\n",
    "## *Return*\n",
    "La sentencia return es **opcional**, puede devolver, o no, un valor y es posible que aparezca **más de una vez** dentro de una misma función, es decir, de ser necesario **return** devuelve un valor que puede ser almacenado y utilizado en otra parte del programa al terminar la ejecucion de la funcion. si no se usa la sentencia **return** la funcion regresa un valor **None** (*variable sin ningun valor*)\n",
    "\n",
    "se puede retornar cualquier tipo de **variable** (int, float, str, bool), **colecciones**(listas, tuplas, diccionarios) y tambien varios valores de la siguente manera: **return** valor1, valor2,..."
   ]
  },
  {
   "cell_type": "code",
   "execution_count": 2,
   "id": "cf07c6cd-dd47-43f7-be71-e692278ddfde",
   "metadata": {},
   "outputs": [
    {
     "name": "stdout",
     "output_type": "stream",
     "text": [
      "elige una operacion:\n",
      "1) suma\n",
      "2) resta\n",
      "3) multiplicacion\n"
     ]
    },
    {
     "name": "stdout",
     "output_type": "stream",
     "text": [
      "operacion:  3\n"
     ]
    },
    {
     "name": "stdout",
     "output_type": "stream",
     "text": [
      "resultado: 32\n"
     ]
    }
   ],
   "source": [
    "# ejemplo\n",
    "\n",
    "def operacion_simple(a, b):\n",
    "    print('elige una operacion:')\n",
    "    print('1) suma')\n",
    "    print('2) resta')\n",
    "    print('3) multiplicacion')\n",
    "    operacion = int(input('operacion: '))\n",
    "    if operacion == 1:\n",
    "        return (a+b)\n",
    "    elif operacion == 2:\n",
    "        return (a-b)\n",
    "    elif operacion == 3:\n",
    "        return (a*b)\n",
    "    else:\n",
    "        print(f'la operacion {operacion} no es valida')\n",
    "\n",
    "resultado = operacion_simple(4,8)\n",
    "print('resultado:',resultado)"
   ]
  },
  {
   "cell_type": "markdown",
   "id": "82b7d4d4-58b9-44af-86e0-3b7bd1f907f0",
   "metadata": {},
   "source": [
    "las variables declaradas dentro de la funcion son variables **locales**, es decir, no se pueden utilizar de forma indepeniente en otras partes del codigo.\n",
    "\n",
    "## Parametros y Argumentos\n",
    "Es la **informacion** o los **datos** (variables) que recibe la funcion para ejecutarse, los parametros o argumentos son practicamente lo mismo pero los diferenciamos de la siguiente manera:\n",
    "\n",
    "### Argumentos\n",
    "se declaran **al momento de crear** la funcion. un funcion puede tener tantos argumentos como se crean necesarios o tambien puede no tener ninguno. y pueden ser utilizados dentro de la funcion.\n",
    "\n",
    "los argumentos pueden ser de **cualquier tipo** (int, float, str, colecciones, etc)\n",
    "\n",
    "### Parametros\n",
    "son los datos que se pasan a la funcion para satisfacer los parametros, **al momento de llamarla**. \n",
    "\n",
    "**nota**: si una funcion tiene declarados 3 argumentos estandard, tambien deben pasarsele la misma cantidad de parametros al llamarla, de lo contrario dara error."
   ]
  },
  {
   "cell_type": "code",
   "execution_count": 3,
   "id": "f9047764-ea76-4496-b97f-4a5f09b69b85",
   "metadata": {},
   "outputs": [
    {
     "name": "stdout",
     "output_type": "stream",
     "text": [
      "mi nombre es carlos, tengo 24 años, por lo que ya soy adulto... True\n",
      "mi nombre es diana, tengo 17 años, por lo que ya soy adulto... False\n"
     ]
    }
   ],
   "source": [
    "# ejemplo\n",
    "\n",
    "def datos(nombre, edad, adulto):\n",
    "    #argumentos: nombre, edad, adulto\n",
    "    print(f'mi nombre es {nombre}, tengo {edad} años, por lo que ya soy adulto... {adulto}')\n",
    "    \n",
    "    #parametros\n",
    "datos('carlos', 24, True)\n",
    "datos('diana', 17, False)\n",
    "\n",
    "#si falta alguno de estos parametros daria ERROR"
   ]
  },
  {
   "cell_type": "markdown",
   "id": "fad5ed38-7430-4412-b6b1-7fc579cc381c",
   "metadata": {},
   "source": [
    "#### Argumentos por defecto\n",
    "podemos establecer valores por defecto a los argumentos de una funcion, de manera que si no se les asigna un valor (**parametro**) a la hora de llamarla ya tengan un valor definido y por lo tanto no dara error."
   ]
  },
  {
   "cell_type": "code",
   "execution_count": 4,
   "id": "eda961b5-2ebd-4d58-ac4f-7483c7f17363",
   "metadata": {},
   "outputs": [
    {
     "name": "stdout",
     "output_type": "stream",
     "text": [
      "nombre = S/N\n",
      "edad = 0\n",
      "nombre = carlos\n",
      "edad = 23\n"
     ]
    }
   ],
   "source": [
    "# ejemplo\n",
    "def datos(nombre='S/N', edad = 0):\n",
    "    print(f'nombre = {nombre}')\n",
    "    print(f'edad = {edad}')\n",
    "    \n",
    "datos()\n",
    "datos('carlos', 23)"
   ]
  },
  {
   "cell_type": "markdown",
   "id": "b5283afa-41da-4d4f-adeb-5abe8e361535",
   "metadata": {},
   "source": [
    "#### Argumentos variables\n",
    "si no se sabe con exactitud la cantidad de argumentos que recibira la funcion podemos definir un argumento que recibira una cantidad indefinida de argumentos y se almacenaran en la funcion en forma de **Tupla** (lista inmutable) o **diccionario**\n",
    "\n",
    "los argumentos pueden ser simples o de clave y valor (**por defecto**) y por convencion se declaran de la seguiente manera:\n",
    "\n",
    "- argumentos simples: **def** funcion(\\*args): ---> **tupla**\n",
    "- argumentos clave valor: **def** funcion(\\*\\*kwargs): ---> **diccionario**\n",
    "- combinacion de ambos: **def** funcion(\\*args, \\*\\*kwargs)\n",
    "\n",
    "**nota**: los argumentos clave valor (**kwargs** = key word arguments) siempre se declaran de ultimos cuando se crea la funcion en caso de que haya argumentos simples."
   ]
  },
  {
   "cell_type": "code",
   "execution_count": 5,
   "id": "9f149904-3afd-4e1a-9b1e-2f74c39f3d7f",
   "metadata": {},
   "outputs": [
    {
     "name": "stdout",
     "output_type": "stream",
     "text": [
      "('carlos', 'sebastian', 'angel', 'moises')\n",
      "carlos\n",
      "sebastian\n",
      "angel\n",
      "moises\n"
     ]
    }
   ],
   "source": [
    "# ejemplo \n",
    "\n",
    "def nombres(*args):\n",
    "    # estos elementos no se pueden modificar\n",
    "    print(args)\n",
    "    for nombre in args:\n",
    "        print(nombre)\n",
    "  \n",
    "nombres('carlos', 'sebastian', 'angel', 'moises')"
   ]
  },
  {
   "cell_type": "code",
   "execution_count": 6,
   "id": "685fc717-716e-4846-a6e8-c52d7f242be1",
   "metadata": {},
   "outputs": [
    {
     "name": "stdout",
     "output_type": "stream",
     "text": [
      "{'nombre': 'carlos', 'edad': 23, 'sexo': 'masculino'}\n",
      "llave = nombre\n",
      "valor = carlos\n",
      "llave = edad\n",
      "valor = 23\n",
      "llave = sexo\n",
      "valor = masculino\n"
     ]
    }
   ],
   "source": [
    "# ejemplo 2\n",
    "\n",
    "def terminos(**kwargs):\n",
    "    print(kwargs)\n",
    "    for clave, valor in kwargs.items():\n",
    "        print(f'llave = {clave}')\n",
    "        print(f'valor = {valor}')\n",
    "        \n",
    "    # la clave no lleva comillas \n",
    "terminos(nombre='carlos', edad=23, sexo='masculino')"
   ]
  },
  {
   "cell_type": "code",
   "execution_count": 7,
   "id": "44e76438-d3bc-4046-bf03-bcc388823881",
   "metadata": {},
   "outputs": [
    {
     "name": "stdout",
     "output_type": "stream",
     "text": [
      "mi nombre es carlos tengo 1 hermano(s) angel, de edad: 21 \n",
      "\n",
      "mi nombre es miguel tengo 0 hermano(s) \n",
      "\n",
      "mi nombre es angel tengo 2 hermano(s) aron, santiago, \n",
      "\n"
     ]
    }
   ],
   "source": [
    "#ejemplo 3\n",
    "\n",
    "# los kwargs se declaran al final\n",
    "def datos(nombre, *args, **kwargs):\n",
    "    #el argumento nombre es obligatorio\n",
    "    print(f'mi nombre es {nombre}', end=\" \")\n",
    "    \n",
    "    #muestra los nombres ingresados como args\n",
    "    print(f'tengo {len(args)} hermano(s) ', end=\"\")\n",
    "    if args:\n",
    "        for nombre in args:\n",
    "            print(nombre, end=\", \")\n",
    "            \n",
    "    #muestra las edades si se ingresan como valores kwargs      \n",
    "    if kwargs:\n",
    "        print('de edad: ', end=\"\")\n",
    "        for edad in kwargs.values():\n",
    "            print(edad, end=\" \")\n",
    "    print('\\n')\n",
    "            \n",
    "datos('carlos', 'angel', edad=21)\n",
    "datos('miguel')\n",
    "datos('angel', 'aron', 'santiago')"
   ]
  },
  {
   "cell_type": "markdown",
   "id": "10b0f041",
   "metadata": {},
   "source": [
    "#### Funciones como argumentos\n",
    "en python una funcion puede recibir otra funcion como argumento."
   ]
  },
  {
   "cell_type": "code",
   "execution_count": 4,
   "id": "6c8cb6d8",
   "metadata": {},
   "outputs": [
    {
     "name": "stdout",
     "output_type": "stream",
     "text": [
      "10\n",
      "14\n"
     ]
    }
   ],
   "source": [
    "# ejemplo\n",
    "\n",
    "# funcion 1\n",
    "def sumar(a, b):\n",
    "    return a+b\n",
    "\n",
    "# funcion 2\n",
    "def restar(a, b):\n",
    "    return a-b\n",
    "\n",
    "# funcion 3\n",
    "def operacion(funcion, x, y):\n",
    "    return funcion(x, y)\n",
    "\n",
    "# llamada a la funcion de operacion y recibe como parametro la funcion sumar \n",
    "print(operacion(sumar, 3, 7))\n",
    "# llamada a la funcion de operacion y recibe como parametro la funcion restar\n",
    "print(operacion(restar, 17, 3))"
   ]
  },
  {
   "cell_type": "markdown",
   "id": "d1adac0a-5de2-471b-9b41-9e7ca0b6f287",
   "metadata": {},
   "source": [
    "## Tipos de funciones\n",
    "### Funciones Recursivas\n",
    "es una funcion que **se llama asi misma** hasta completar una tarea en especifico.\n",
    "\n",
    "un ejemplo de esto seria calcular el factorial de un numero:\n",
    "\n",
    "![Imagen](imagenes/recursividad.png)\n",
    "\n",
    "el factorial de un numero es la multiplicacion **consecutiva** desde 1 hasta el numero del factorial, es decir, el factorial de 5 (**5!**) es igual a multiplicar **1\\*2\\*3\\*4\\*5** --> **5! = 1\\*2\\*3\\*4\\*5**\n",
    "\n",
    "sabemos que el factorial de 1 es igual a 1 --> **1! = 1**\n",
    "\n",
    "tambien que el factorial de un numero es igual multiplicar ese numero por el factorial del numero anterior, es decir: \n",
    "\n",
    "**n! = n * (n-1)!** --> **5! = 5 * 4!** asi tambien **4! = 4 * 3!** y asi sucecivamente."
   ]
  },
  {
   "cell_type": "code",
   "execution_count": 3,
   "id": "7fa5ab18-e11d-4920-afcc-bb54cbbfd568",
   "metadata": {},
   "outputs": [
    {
     "name": "stdout",
     "output_type": "stream",
     "text": [
      "el factorial de 5 es: 120\n"
     ]
    }
   ],
   "source": [
    "# ejemplo\n",
    "\n",
    "def factorial(numero):\n",
    "    if numero == 1:\n",
    "        # el factorial de 1 es igual a 1 este es el punto de ruptura de la funcion\n",
    "        return 1\n",
    "    else:\n",
    "        # la funcion se llama a si misma hasta que obtenga todos los valores\n",
    "        return numero*factorial(numero-1)\n",
    "\n",
    "numero = 5\n",
    "print(f'el factorial de {numero} es: {factorial(numero)}')\n",
    "\n",
    "#sin el punto de ruptura la funcion se ejecutaria infinitamente"
   ]
  },
  {
   "cell_type": "markdown",
   "id": "5b5a249c-03cf-4a9e-9a53-a20fa87c508b",
   "metadata": {},
   "source": [
    "la funcion factorial se ejecuta esperando un valor, en este caso **5 \\* 4!** pero aun no se ha calculado cuanto vale 4!, entonces deja ese valor en espera y se ejecuta nuevamente, ahora esperando el resultado de **4 \\* 3!**, y asi hara en cada iteracion, se llamara asi mismo esperando un resultado hasta que llegue al factorial de 1 (**1!**), aqui el resultado es 1 (**punto de ruptura**) por lo que empezara a **darles valores a todas las llamadas anteriores** hasta la llamada original que realizamos de la funcion y retornar el valor solicitado asi como se ve en la imagen de arriba.\n",
    "\n",
    "5! = 5\\*4! --> 4! = 4\\*3! --> 3! = 3\\*2! --> 2! = 2\\*1! --> 1! = 1 (**punto de ruptura**) \n",
    "\n",
    "1! = 1 --> 2! = 2\\*1 = 2 --> 3! = 3\\*2 = 6 --> 4! = 4\\*6 = 24 --> 5! = 5\\*24 = 120 (**salida de la funcion**)\n",
    "\n",
    "### Lambda\n",
    "son funciones **sencillas** y **anonimas**, es decir que no tienen un nombre y se declaran en **una sola linea de codigo**. Las funciones **lambda** se pueden a una *variable* y tienen la siguiente sintaxis `variable = lambda argumentos: operaciones` o ser llamadas al vuelo `(lambda argumentos: operaciones) (parametros)`\n",
    "\n",
    "los **argumentos** no se tienen que declarar dentro de parentesis como en las funciones normales y la palabra **return** viene implicita, es decir, no hay que colocarla ya que la funcion lambda retorna automaticamente el resultado de las operaciones que estan a la derecha de los 2 puntos (**:**).\n",
    "\n",
    "por ultimo las funciones lambda pueden recibir argumentos al igual que las funciones normales:\n",
    "- sin argumentos\n",
    "- argumentos simples\n",
    "- argumentos clave, valor\n",
    "- \\*args\n",
    "- \\*\\*kwargs\n",
    "\n",
    "**nota**: las funciones lambda se escriben en una sola linea por lo que se recomienda para operaciones simples, se pueden usar como funciones anidadas, pasarse directamente como argumentos de otra funcion, etc"
   ]
  },
  {
   "cell_type": "code",
   "execution_count": 3,
   "id": "9c2a3c4c",
   "metadata": {},
   "outputs": [
    {
     "name": "stdout",
     "output_type": "stream",
     "text": [
      "10\n",
      "24\n",
      "-3\n"
     ]
    }
   ],
   "source": [
    "#ejemplo \n",
    "\n",
    "#funcion tradicional\n",
    "def sumar(a, b):\n",
    "    return a + b\n",
    "\n",
    "# funcion lambda\n",
    "suma_lambda = lambda a, b: a + b\n",
    "\n",
    "# llamada a la funcion tradicional\n",
    "print(sumar(3,7))\n",
    "\n",
    "# llamada a la funcion lambda\n",
    "# los parametros se le pasan al igual que a las funciones tradicionales\n",
    "print(suma_lambda(9,15))\n",
    "\n",
    "# funcion lambda al vuelo para restar\n",
    "print((lambda x, y: x-y) (4, 7))"
   ]
  },
  {
   "cell_type": "markdown",
   "id": "6dd7fc43",
   "metadata": {},
   "source": [
    "### Funciones anidadas\n",
    "son funciones **definidas y llamadas** de otras funciones."
   ]
  },
  {
   "cell_type": "code",
   "execution_count": 8,
   "id": "1405149e",
   "metadata": {},
   "outputs": [
    {
     "name": "stdout",
     "output_type": "stream",
     "text": [
      "el resultado de la suma es: 8\n",
      "el resultado de la resta es: 2\n"
     ]
    }
   ],
   "source": [
    "# ejemplo\n",
    "\n",
    "# funcion principal\n",
    "def calculadora(a, b, operacion=\"sumar\"):\n",
    "    \n",
    "    # funcion anidada 1\n",
    "    def sumar(a, b):\n",
    "        return a+b\n",
    "    \n",
    "    # funcion anidada 2\n",
    "    def restar(a,b):\n",
    "        return a-b\n",
    "    \n",
    "    # llama a la funcion anidada sumar\n",
    "    if operacion == \"sumar\":\n",
    "        print('el resultado de la suma es:',sumar(a, b))\n",
    "    \n",
    "    # llama a la funcion anidada restar\n",
    "    elif operacion == \"restar\":\n",
    "        print('el resultado de la resta es:',restar(a,b))\n",
    "        \n",
    "calculadora(3,5)\n",
    "calculadora(9,7,'restar')\n",
    "        "
   ]
  },
  {
   "cell_type": "markdown",
   "id": "02f3ac0f",
   "metadata": {},
   "source": [
    "### Alcance de las Variables (Scope)\n",
    "en este ambito hay dos tipos de variables:\n",
    "- Global\n",
    "- Local\n",
    "\n",
    "una variable declarada **fuera de una funcion** se dice que es **Global**, es decir que puede ser accedida o leida desde cualquier parte del programa.\n",
    "\n",
    "una variable declarada **dentro de una funcion** se dice que es **Local**, es decir que solo puede ser utilizada dentro de la funcion donde se creo o funciones anidadas de esa misma funcion y una vez se termina su ejecucion se destruyen por lo que **ya no pueden ser accedidas fuera de ella**.\n",
    "\n",
    "una variable global puede ser leida dentro de una funcion pero no puede ser modificada a menos que se anteponga la palabra reservada `global`, esto hace referencia a la variable global y no a una variable local con el mismo nombre dentro de la funcion. tambien puede ser referenciada con la palabra resrvada `nonlocal`"
   ]
  },
  {
   "cell_type": "code",
   "execution_count": 18,
   "id": "71879590",
   "metadata": {},
   "outputs": [
    {
     "name": "stdout",
     "output_type": "stream",
     "text": [
      "acceso total\n",
      "cambio del valor de la variable local de la funcion principal\n",
      "nuevo acceso total\n",
      "esta solo existe en la funcion anidada\n"
     ]
    }
   ],
   "source": [
    "# ejemplo\n",
    "\n",
    "var_global = 'acceso total'\n",
    "\n",
    "# funcion principal\n",
    "def imprimir():\n",
    "    print(var_global)\n",
    "    \n",
    "    var_local = 'acceso solo desde esta funcion o funciones anidadas'\n",
    "    \n",
    "    def funcion_anidada():\n",
    "        # modificando el valor de la variable local de la funcion principal\n",
    "        nonlocal var_local\n",
    "        var_local = 'cambio del valor de la variable local de la funcion principal'\n",
    "        print(var_local)\n",
    "        \n",
    "        # modifica el valor de la variable global\n",
    "        global var_global\n",
    "        var_global = 'nuevo acceso total'\n",
    "        print(var_global)\n",
    "        \n",
    "        # variable local de la funcion anidada solo se puede usar desde aqui\n",
    "        var_anidada = 'esta solo existe en la funcion anidada'\n",
    "        print(var_anidada)\n",
    "    \n",
    "    # llamada a la funcion anidada dentro de la funcion principal\n",
    "    funcion_anidada()\n",
    "\n",
    "# llamada a la funcion principal\n",
    "imprimir()\n",
    "      "
   ]
  },
  {
   "cell_type": "markdown",
   "id": "e55e7151",
   "metadata": {},
   "source": [
    "### Closure\n",
    "es una **funcion anidada** que usara las variables locales de la funcion principal o externa y sera **retornada** por la funcion principal. a diferencia de las funciones anidadas la funcion closure **no se llama dentro de la funcion principal**."
   ]
  },
  {
   "cell_type": "code",
   "execution_count": 3,
   "id": "2b0a75b7",
   "metadata": {},
   "outputs": [
    {
     "name": "stdout",
     "output_type": "stream",
     "text": [
      "hola Angel\n"
     ]
    }
   ],
   "source": [
    "# ejemplo\n",
    "\n",
    "def saludo(nombre):\n",
    "    # variables locales mensaje y nombre\n",
    "    mensaje = 'hola ' + nombre\n",
    "    \n",
    "    # funcion closure \n",
    "    def mostrar_saludo():\n",
    "        print(mensaje)\n",
    "        \n",
    "    # retornando la funcion\n",
    "    return mostrar_saludo\n",
    "\n",
    "# llamando a la funcion principal definiendo el parametro de nombre\n",
    "variable = saludo('Angel')\n",
    "\n",
    "# llamando a la fucion closure\n",
    "variable()"
   ]
  },
  {
   "cell_type": "code",
   "execution_count": 7,
   "id": "0dd0d45e",
   "metadata": {},
   "outputs": [
    {
     "name": "stdout",
     "output_type": "stream",
     "text": [
      "el resultado es: 13\n",
      "nueva operacion:49\n"
     ]
    }
   ],
   "source": [
    "# ejemplo 2\n",
    "\n",
    "# funcion principal\n",
    "def operacion(a, b):\n",
    "    \n",
    "    # funcion lambda anidada : closure\n",
    "    return lambda: a + b\n",
    "\n",
    "# llamada a la funcion principal\n",
    "resultado = operacion(4, 9)\n",
    "# mostrando la funcion closure\n",
    "print(f'el resultado es: {resultado()}')\n",
    "\n",
    "# llamada de la funcion al vuelo\n",
    "print(f'nueva operacion:{operacion(12,37)()}')\n"
   ]
  },
  {
   "cell_type": "markdown",
   "id": "a925440a",
   "metadata": {},
   "source": [
    "### Decoradores\n",
    "son funciones que **añaden funcionalidad a otras funciones** sin modificarlas directamente y tienen la siguiente estructura:\n",
    "\n",
    " ```\n",
    " funcion_a(funcion_b):\n",
    "\n",
    "     funcion_c():\n",
    "\n",
    "        nuevas operaciones\n",
    "\n",
    "        funcion_b()\n",
    "\n",
    "        nuevas operaciones\n",
    "     \n",
    "     return funcion_c\n",
    " ```\n",
    "\n",
    " - funcion_a = *funcion decoradora*\n",
    " - funcion_b = *funcion a decorar*\n",
    " - funcion_c = *funcion decorada*\n",
    "\n",
    "la **funcion_a** (*funcion decoradora*) recibe como parametro una **funcion_b** (*funcion a decorar*) y **retorna** una nueva **funcion_c** (*funcion decorada*) con todas las **funcionalidades u operaciones añadidas**\n",
    "\n",
    "los decoradores se llaman con la sigiente sintaxis, se llama la funcion decoradora con un (**@**) encima de la funcion a decorar:\n",
    "\n",
    "```\n",
    "@funcion_decoradora\n",
    "\n",
    "def funcion_a_decorar():\n",
    "```\n",
    "\n",
    "**nota**: si la funcion a decorar recibe argumentos, deben declararse tambien en la funcion decorada (**funcion_c**), es recomendable que sea como **\\*args o \\*\\*kwargs**"
   ]
  },
  {
   "cell_type": "code",
   "execution_count": 11,
   "id": "97f0170d",
   "metadata": {},
   "outputs": [
    {
     "name": "stdout",
     "output_type": "stream",
     "text": [
      "ejecutando desde el decorador\n",
      "mensaje desde la funcion a decorar\n"
     ]
    }
   ],
   "source": [
    "# ejemplo\n",
    "\n",
    "# declarando funcion decoradora\n",
    "def funcion_a(funcion_b):\n",
    "    \n",
    "    def funcion_c():\n",
    "        # funcion añadida\n",
    "        print('ejecutando desde el decorador')\n",
    "        # llamada de la funcion a decorar\n",
    "        funcion_b()\n",
    "        \n",
    "    # retornando funcion ya decorada\n",
    "    return funcion_c\n",
    "\n",
    "# decorando una funcion\n",
    "@funcion_a\n",
    "def funcion_a_decorar():\n",
    "    print('mensaje desde la funcion a decorar')\n",
    "\n",
    "# llamada de la funcion decorada\n",
    "funcion_a_decorar()"
   ]
  },
  {
   "cell_type": "code",
   "execution_count": 15,
   "id": "cc0793e2",
   "metadata": {},
   "outputs": [
    {
     "name": "stdout",
     "output_type": "stream",
     "text": [
      "el resultado de la operacion es:\n",
      "12\n",
      "el resultado de la operacion es:\n",
      "81\n"
     ]
    }
   ],
   "source": [
    "# ejemplo 2\n",
    "\n",
    "# funcion decoradora\n",
    "def mensaje(funcion):\n",
    "    \n",
    "    # decorando funcion y agregando argumentos\n",
    "    def mostrar(*args, **kwargs):\n",
    "        print('el resultado de la operacion es:')\n",
    "        resultado = funcion(*args, **kwargs)\n",
    "        return resultado\n",
    "    \n",
    "    # funcion decorada\n",
    "    return mostrar\n",
    "\n",
    "# decorando funcion\n",
    "@mensaje\n",
    "def sumar(a, b):\n",
    "    return a+b\n",
    "\n",
    "# decorando funcion\n",
    "@mensaje\n",
    "def potencia(x, y):\n",
    "    return x**y\n",
    "\n",
    "# llamando a las funciones decoradas\n",
    "print(sumar(5, 7))\n",
    "print(potencia(3, 4))\n",
    "\n",
    "# las funciones decoradas reciben dos parametros pero gracias al decorador pueden recibir muchos mas "
   ]
  },
  {
   "cell_type": "markdown",
   "id": "9aef18d0",
   "metadata": {},
   "source": [
    "### Generadores\n",
    "son objetos **iterables** (*como listas*) que retornan una secuencia de valores, pero tambien se puede **suspender su ejecucion** por medio de la palabra reservada `yield`.\n",
    "\n",
    "se pueden acceder a los valores de una funcion generadora por medio de bucles **while** o **for** y tambien por medio de la funcion `next()`.\n",
    "\n",
    "las funciones generadoras al contrario que las colecciones convencionales **no regresan todos los valores de una vez** en su lugar **van retornando los valores requeridos a medida que se van solicitando**, es decir, **yield** retorna un valor y detiene en ese punto la ejecucion de la funcion **hasta que se pide un valor nuevo**. por lo que en cuestion de uso de memoria son mas eficientes.\n",
    "\n",
    "cuando ya se hayan retornado todos los valores existentes en el generador no tendra mas valores, por lo que si se vuelve a llamar con `next()` dara error, a menos que se genere el iterador desde el principio.\n",
    "\n",
    "**nota**: `next()` se utiliza cuando se quieren llamar a los valores generados **uno por uno** o cuando se llaman por el bucle **while**, si se utiliza un bucle **for** no es necesario utilizar `next()`"
   ]
  },
  {
   "cell_type": "code",
   "execution_count": 33,
   "id": "19332d7f",
   "metadata": {},
   "outputs": [
    {
     "name": "stdout",
     "output_type": "stream",
     "text": [
      "1\n",
      "reanudando ejecucion\n",
      "2\n",
      "reanudando ejecucion nuevamente\n",
      "3\n",
      "desde el for: 1\n",
      "reanudando ejecucion\n",
      "desde el for: 2\n",
      "reanudando ejecucion nuevamente\n",
      "desde el for: 3\n"
     ]
    }
   ],
   "source": [
    "# ejemplo\n",
    "\n",
    "def funcion_generadora():\n",
    "    yield 1 # retorna 1 y suspende la funcion\n",
    "    \n",
    "    print('reanudando ejecucion')\n",
    "    yield 2 # ejecuta el codigo entre ambos yield, retorna 2 y suspende la funcion\n",
    "    print('reanudando ejecucion nuevamente')\n",
    "    yield 3\n",
    "\n",
    "generador = funcion_generadora()\n",
    "\n",
    "# llamada a la funcion generadora\n",
    "print(next(generador))\n",
    "\n",
    "# segunda llamada a la funcion\n",
    "print(next(generador))\n",
    "\n",
    "# tercera y ultima llamada a la funcion\n",
    "print(next(generador))\n",
    "\n",
    "# si se intenta llamar nuevamente a la funcion generadora dara error ya que no existen mas valores para retornar\n",
    "# a menos que sea reiniciada\n",
    "\n",
    "# reiniciando la funcion generadora\n",
    "generador = funcion_generadora()\n",
    "\n",
    "# llamando por ciclo for\n",
    "for valor in generador:\n",
    "    print(f'desde el for: {valor}')"
   ]
  },
  {
   "cell_type": "code",
   "execution_count": 34,
   "id": "118cfe5e",
   "metadata": {},
   "outputs": [
    {
     "name": "stdout",
     "output_type": "stream",
     "text": [
      "0\n",
      "2\n",
      "4\n",
      "6\n",
      "8\n"
     ]
    }
   ],
   "source": [
    "# ejemplo 2\n",
    "\n",
    "def generador_pares(x):\n",
    "    for i in range(x):\n",
    "        if i % 2 == 0:\n",
    "            yield i\n",
    "            \n",
    "generador = generador_pares(10)\n",
    "\n",
    "for valor in generador:\n",
    "    print(valor)"
   ]
  },
  {
   "cell_type": "markdown",
   "id": "4e9880e5",
   "metadata": {},
   "source": [
    "#### Expresiones generadoras\n",
    "son generadores anonimos parecidos a los lambdas, de esta manera funciona la comprension de listas."
   ]
  },
  {
   "cell_type": "code",
   "execution_count": 37,
   "id": "9eff1086",
   "metadata": {},
   "outputs": [
    {
     "name": "stdout",
     "output_type": "stream",
     "text": [
      "0, 1, 4, 9, 16, "
     ]
    }
   ],
   "source": [
    "# ejemplo\n",
    "\n",
    "cuadrados = (valor*valor for valor in range(5))\n",
    "\n",
    "for i in cuadrados:\n",
    "    print(i, end=', ')"
   ]
  },
  {
   "cell_type": "markdown",
   "id": "820ba110",
   "metadata": {},
   "source": []
  }
 ],
 "metadata": {
  "kernelspec": {
   "display_name": "Python 3.9.2 64-bit",
   "language": "python",
   "name": "python3"
  },
  "language_info": {
   "codemirror_mode": {
    "name": "ipython",
    "version": 3
   },
   "file_extension": ".py",
   "mimetype": "text/x-python",
   "name": "python",
   "nbconvert_exporter": "python",
   "pygments_lexer": "ipython3",
   "version": "3.9.2"
  },
  "toc-autonumbering": false,
  "toc-showcode": false,
  "toc-showmarkdowntxt": false,
  "vscode": {
   "interpreter": {
    "hash": "916dbcbb3f70747c44a77c7bcd40155683ae19c65e1c03b4aa3499c5328201f1"
   }
  }
 },
 "nbformat": 4,
 "nbformat_minor": 5
}
